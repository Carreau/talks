{
 "cells": [
  {
   "cell_type": "markdown",
   "metadata": {},
   "source": [
    "# IPython and cross language integration"
   ]
  },
  {
   "cell_type": "markdown",
   "metadata": {},
   "source": [
    "This is demo on how cross-language integration works in a Jupyter notebook by using the features of the Reference IPython Kernel implementation.\n",
    "These features are only on the Kernel basis and need to be reimplemented on a per-kernel basis. \n",
    "\n",
    "Most of what you will see here are thin wrappers around already existing libraries, that do all the heavy lifinting, \n",
    "we just showing how seamless a cross languaguage environement can be. "
   ]
  },
  {
   "cell_type": "markdown",
   "metadata": {},
   "source": [
    "# Basic Python cross-language integration"
   ]
  },
  {
   "cell_type": "markdown",
   "metadata": {},
   "source": [
    "Python offer many facilities to call into other languages, wether we \"shell-out\""
   ]
  },
  {
   "cell_type": "markdown",
   "metadata": {},
   "source": [
    "## Steamlining calling subprocess"
   ]
  },
  {
   "cell_type": "markdown",
   "metadata": {},
   "source": [
    "Well IPython define what are called Magics  `%something` for line magics, act only on the rest of the line, and call magics (start with `%%`)"
   ]
  },
  {
   "cell_type": "code",
   "execution_count": 2,
   "metadata": {
    "collapsed": false
   },
   "outputs": [],
   "source": [
    "%%ruby --out fib15\n",
    "def fibonacci( n )\n",
    "  return  n  if ( 0..1 ).include? n\n",
    "  ( fibonacci( n - 1 ) + fibonacci( n - 2 ) )\n",
    "end\n",
    "puts fibonacci( 15 )"
   ]
  },
  {
   "cell_type": "code",
   "execution_count": 5,
   "metadata": {
    "collapsed": false
   },
   "outputs": [
    {
     "data": {
      "text/plain": [
       "610"
      ]
     },
     "execution_count": 5,
     "metadata": {},
     "output_type": "execute_result"
    }
   ],
   "source": [
    "int(fib15.strip())"
   ]
  },
  {
   "cell_type": "markdown",
   "metadata": {},
   "source": [
    "Ok, that's somewhat usefull, but not really that much right ? You cannot pass variable in... or can't you ? "
   ]
  },
  {
   "cell_type": "markdown",
   "metadata": {},
   "source": [
    "### Send variables in "
   ]
  },
  {
   "cell_type": "markdown",
   "metadata": {},
   "source": [
    "Calling subprocess can be quite cumbersome when workign interactively"
   ]
  },
  {
   "cell_type": "code",
   "execution_count": 6,
   "metadata": {
    "collapsed": true
   },
   "outputs": [],
   "source": [
    "import random\n",
    "import string\n",
    "\n",
    "def rand_names(k=10,l=10):\n",
    "    for i in range(k):\n",
    "        yield '_' + ''.join(random.choice(string.ascii_letters) for i in range(l))+'.o'\n",
    "    "
   ]
  },
  {
   "cell_type": "code",
   "execution_count": 7,
   "metadata": {
    "collapsed": true
   },
   "outputs": [],
   "source": [
    "for f in rand_names():\n",
    "    !touch $f"
   ]
  },
  {
   "cell_type": "code",
   "execution_count": 8,
   "metadata": {
    "collapsed": false
   },
   "outputs": [
    {
     "name": "stdout",
     "output_type": "stream",
     "text": [
      "Cargo.lock                              _WJhXddnfZu.o\r\n",
      "Cargo.toml                              _YcfFsWSaYU.o\r\n",
      "Cross Language Integration.ipynb        _bkTNuJxZPs.o\r\n",
      "_LRfqpTUMoU.o                           _cAmhciQbxr.o\r\n",
      "_LXqIyyjUBW.o                           _cffi_oXYccNACnn.c\r\n",
      "_QuDKoqWvRh.o                           \u001b[31m_cffi_oXYccNACnn.cpython-35m-darwin.so\u001b[m\u001b[m*\r\n",
      "_TWJdFcPOoX.o                           _cffi_oXYccNACnn.o\r\n",
      "_UPplhgGGgn.o                           \u001b[34msrc\u001b[m\u001b[m/\r\n",
      "_VbbrkzNhYQ.o                           \u001b[34mtarget\u001b[m\u001b[m/\r\n"
     ]
    }
   ],
   "source": [
    "ls"
   ]
  },
  {
   "cell_type": "code",
   "execution_count": 9,
   "metadata": {
    "collapsed": false
   },
   "outputs": [
    {
     "data": {
      "text/plain": [
       "['_LRfqpTUMoU.o',\n",
       " '_LXqIyyjUBW.o',\n",
       " '_QuDKoqWvRh.o',\n",
       " '_TWJdFcPOoX.o',\n",
       " '_UPplhgGGgn.o',\n",
       " '_VbbrkzNhYQ.o',\n",
       " '_WJhXddnfZu.o',\n",
       " '_YcfFsWSaYU.o',\n",
       " '_bkTNuJxZPs.o',\n",
       " '_cAmhciQbxr.o',\n",
       " '_cffi_oXYccNACnn.o']"
      ]
     },
     "execution_count": 9,
     "metadata": {},
     "output_type": "execute_result"
    }
   ],
   "source": [
    "files = !ls *.o\n",
    "files"
   ]
  },
  {
   "cell_type": "code",
   "execution_count": 10,
   "metadata": {
    "collapsed": true
   },
   "outputs": [],
   "source": [
    "!rm *.o"
   ]
  },
  {
   "cell_type": "code",
   "execution_count": 11,
   "metadata": {
    "collapsed": false
   },
   "outputs": [
    {
     "name": "stdout",
     "output_type": "stream",
     "text": [
      "Cargo.lock                              \u001b[31m_cffi_oXYccNACnn.cpython-35m-darwin.so\u001b[m\u001b[m*\r\n",
      "Cargo.toml                              \u001b[34msrc\u001b[m\u001b[m/\r\n",
      "Cross Language Integration.ipynb        \u001b[34mtarget\u001b[m\u001b[m/\r\n",
      "_cffi_oXYccNACnn.c\r\n"
     ]
    }
   ],
   "source": [
    "ls"
   ]
  },
  {
   "cell_type": "markdown",
   "metadata": {},
   "source": [
    "Ok, that's pretty conveninent, it's kind-of inlineing bash-one liners where you can inject Python strin in it. \n",
    "what about multilines ? "
   ]
  },
  {
   "cell_type": "code",
   "execution_count": 12,
   "metadata": {
    "collapsed": true
   },
   "outputs": [],
   "source": [
    "import rpy2.rinterface"
   ]
  },
  {
   "cell_type": "code",
   "execution_count": 13,
   "metadata": {
    "collapsed": true
   },
   "outputs": [],
   "source": [
    "import os"
   ]
  },
  {
   "cell_type": "code",
   "execution_count": 14,
   "metadata": {
    "collapsed": false
   },
   "outputs": [],
   "source": [
    "%matplotlib inline\n",
    "import rpy2.interactive as r\n",
    "import rpy2.interactive.packages # this can take few seconds\n",
    "%load_ext rpy2.ipython\n",
    "from rpy2.interactive import process_revents"
   ]
  },
  {
   "cell_type": "code",
   "execution_count": 15,
   "metadata": {
    "collapsed": true
   },
   "outputs": [],
   "source": [
    "def fib(n):\n",
    "    if n<2:\n",
    "        return 1\n",
    "    x,y = 1,1\n",
    "    for i in range(n-2):\n",
    "        x,y = y,x+y\n",
    "    return y"
   ]
  },
  {
   "cell_type": "code",
   "execution_count": 16,
   "metadata": {
    "collapsed": false
   },
   "outputs": [
    {
     "data": {
      "text/plain": [
       "<matplotlib.collections.PathCollection at 0x11e2cae80>"
      ]
     },
     "execution_count": 16,
     "metadata": {},
     "output_type": "execute_result"
    },
    {
     "data": {
      "image/png": "[encoded data removed]",
      "text/plain": [
       "<matplotlib.figure.Figure at 0x11e2754e0>"
      ]
     },
     "metadata": {},
     "output_type": "display_data"
    }
   ],
   "source": [
    "import numpy as np\n",
    "X = np.arange(20)\n",
    "Y = np.array([fib(x) for x in X])\n",
    "import matplotlib.pyplot as plt\n",
    "plt.scatter(X,Y)"
   ]
  },
  {
   "cell_type": "code",
   "execution_count": 17,
   "metadata": {
    "collapsed": true
   },
   "outputs": [],
   "source": [
    "%Rpush Y X"
   ]
  },
  {
   "cell_type": "code",
   "execution_count": 18,
   "metadata": {
    "collapsed": true
   },
   "outputs": [],
   "source": [
    "%%R\n",
    "s = summary(lm(Y~X))\n",
    "val <- s$coefficients"
   ]
  },
  {
   "cell_type": "code",
   "execution_count": 20,
   "metadata": {
    "collapsed": false
   },
   "outputs": [
    {
     "data": {
      "text/plain": [
       "array([[ -6.85242857e+02,   3.38412077e+02,  -2.02487708e+00,\n",
       "          5.79739741e-02],\n",
       "       [  1.29741353e+02,   3.04517583e+01,   4.26055376e+00,\n",
       "          4.70513265e-04]])"
      ]
     },
     "execution_count": 20,
     "metadata": {},
     "output_type": "execute_result"
    }
   ],
   "source": [
    "%R val"
   ]
  },
  {
   "cell_type": "code",
   "execution_count": 21,
   "metadata": {
    "collapsed": false
   },
   "outputs": [
    {
     "data": {
      "text/plain": [
       "array([[ -6.85242857e+02,   3.38412077e+02,  -2.02487708e+00,\n",
       "          5.79739741e-02],\n",
       "       [  1.29741353e+02,   3.04517583e+01,   4.26055376e+00,\n",
       "          4.70513265e-04]])"
      ]
     },
     "execution_count": 21,
     "metadata": {},
     "output_type": "execute_result"
    }
   ],
   "source": [
    "coefs = %Rget val\n",
    "coefs"
   ]
  },
  {
   "cell_type": "markdown",
   "metadata": {},
   "source": [
    "### What about redefinig functions ? "
   ]
  },
  {
   "cell_type": "markdown",
   "metadata": {
    "slideshow": {
     "slide_type": "slide"
    }
   },
   "source": [
    "# Mix and match languages: Julia"
   ]
  },
  {
   "cell_type": "code",
   "execution_count": null,
   "metadata": {
    "collapsed": false
   },
   "outputs": [],
   "source": [
    "%load_ext julia.magic"
   ]
  },
  {
   "cell_type": "code",
   "execution_count": null,
   "metadata": {
    "collapsed": false
   },
   "outputs": [],
   "source": [
    "%julia @pyimport matplotlib.pyplot as plt\n",
    "%julia @pyimport numpy as np\n",
    "%matplotlib inline"
   ]
  },
  {
   "cell_type": "code",
   "execution_count": null,
   "metadata": {
    "collapsed": false,
    "slideshow": {
     "slide_type": "slide"
    }
   },
   "outputs": [],
   "source": [
    "%%julia\n",
    "# Note how we mix numpy and julia:\n",
    "t = linspace(0,2*pi,1000); # use the julia linspace\n",
    "s = sin(3*t + 4*np.cos(2*t)); # use the numpy cosine and julia sine\n",
    "fig = plt.gcf()  # **** WATCH THIS VARIABLE ****\n",
    "plt.plot(t, s, color=\"red\", linewidth=2.0, linestyle=\"--\")"
   ]
  },
  {
   "cell_type": "markdown",
   "metadata": {
    "slideshow": {
     "slide_type": "slide"
    }
   },
   "source": [
    "# Deep cross-language integration"
   ]
  },
  {
   "cell_type": "code",
   "execution_count": null,
   "metadata": {
    "collapsed": false,
    "slideshow": {
     "slide_type": "-"
    }
   },
   "outputs": [],
   "source": [
    "fig = %julia fig           # Python % Julia\n",
    "fig.suptitle('A simple plot')    # Python\n",
    "fig                              # Python  "
   ]
  },
  {
   "cell_type": "markdown",
   "metadata": {
    "slideshow": {
     "slide_type": "slide"
    }
   },
   "source": [
    "# The stack as a layer cake"
   ]
  },
  {
   "cell_type": "code",
   "execution_count": null,
   "metadata": {
    "collapsed": false,
    "scrolled": false
   },
   "outputs": [],
   "source": [
    "from __future__ import print_function\n",
    "\n",
    "jlfib = %julia _fib(n, pyfib) = n < 2 ? n : pyfib(n-1, _fib) + pyfib(n-2, _fib)\n",
    "    \n",
    "def pyfib(n, _fib):\n",
    "    print('(P', end='')\n",
    "    if n < 2:\n",
    "         r = n\n",
    "    else:\n",
    "        print('(J', end='')\n",
    "        r =  _fib(n-1, pyfib) + _fib(n-2, pyfib)\n",
    "        print(')',end='')\n",
    "    return r\n",
    "\n",
    "fibonacci = lambda x: pyfib(x, jlfib)\n",
    "\n",
    "fibonacci(10)"
   ]
  },
  {
   "cell_type": "markdown",
   "metadata": {
    "slideshow": {
     "slide_type": "slide"
    }
   },
   "source": [
    "# CFFI"
   ]
  },
  {
   "cell_type": "markdown",
   "metadata": {
    "slideshow": {
     "slide_type": "subslide"
    }
   },
   "source": [
    "## Mix and Match : C"
   ]
  },
  {
   "cell_type": "markdown",
   "metadata": {},
   "source": [
    "Expose some ability to inline C and rust through CFFI"
   ]
  },
  {
   "cell_type": "code",
   "execution_count": 22,
   "metadata": {
    "collapsed": false
   },
   "outputs": [],
   "source": [
    "import cffi_magic"
   ]
  },
  {
   "cell_type": "code",
   "execution_count": 23,
   "metadata": {
    "collapsed": false
   },
   "outputs": [
    {
     "name": "stdout",
     "output_type": "stream",
     "text": [
      "rm: *.o: No such file or directory\r\n"
     ]
    }
   ],
   "source": [
    "rm *.o *.c *.so"
   ]
  },
  {
   "cell_type": "code",
   "execution_count": 24,
   "metadata": {
    "collapsed": false
   },
   "outputs": [
    {
     "name": "stdout",
     "output_type": "stream",
     "text": [
      "Cargo.lock                        \u001b[34msrc\u001b[m\u001b[m/\r\n",
      "Cargo.toml                        \u001b[34mtarget\u001b[m\u001b[m/\r\n",
      "Cross Language Integration.ipynb\r\n"
     ]
    }
   ],
   "source": [
    "ls"
   ]
  },
  {
   "cell_type": "code",
   "execution_count": 30,
   "metadata": {
    "collapsed": false
   },
   "outputs": [],
   "source": [
    "%%cffi int cfib(int);\n",
    "\n",
    "int cfib(int n)\n",
    "{ return _cfib(n);}\n",
    "\n",
    "int _cfib(int);\n",
    "int _cfib(int n)\n",
    "{\n",
    "    int res=0;\n",
    "    if (n <= 2){\n",
    "        res = 1;\n",
    "    } else {\n",
    "        res = _cfib(n-1)+_cfib(n-2);\n",
    "    }\n",
    "    return res;\n",
    "}"
   ]
  },
  {
   "cell_type": "code",
   "execution_count": 31,
   "metadata": {
    "collapsed": false
   },
   "outputs": [
    {
     "data": {
      "text/plain": [
       "3"
      ]
     },
     "execution_count": 31,
     "metadata": {},
     "output_type": "execute_result"
    }
   ],
   "source": [
    "cfib(4)"
   ]
  },
  {
   "cell_type": "markdown",
   "metadata": {
    "slideshow": {
     "slide_type": "subslide"
    }
   },
   "source": [
    "## Mix and Match : rust"
   ]
  },
  {
   "cell_type": "code",
   "execution_count": 43,
   "metadata": {
    "collapsed": false
   },
   "outputs": [
    {
     "name": "stdout",
     "output_type": "stream",
     "text": [
      "injecting  rfib in user ns\n"
     ]
    }
   ],
   "source": [
    "%%rust int rfib(int);\n",
    "\n",
    "#[no_mangle]\n",
    "pub extern fn rfib(n: i32) -> i32 {\n",
    "    match n {\n",
    "        0 => 0,\n",
    "        1 => 1,\n",
    "        2 => 1,\n",
    "        _ => rfib(n-1)+rfib(n-2)\n",
    "    }\n",
    "}"
   ]
  },
  {
   "cell_type": "code",
   "execution_count": null,
   "metadata": {
    "collapsed": true
   },
   "outputs": [],
   "source": [
    "def poly(j):\n",
    "    return  j**2+3*j\n",
    "\n",
    "def fun():\n",
    "    i = 0 \n",
    "    for j in range(2000000000000):\n",
    "        i = i+poly(j)\n",
    "    return i\n"
   ]
  },
  {
   "cell_type": "code",
   "execution_count": 33,
   "metadata": {
    "collapsed": false
   },
   "outputs": [
    {
     "data": {
      "text/plain": [
       "([0, 1, 1, 2, 3, 5, 8, 13, 21, 34], [1, 1, 1, 2, 3, 5, 8, 13, 21, 34])"
      ]
     },
     "execution_count": 33,
     "metadata": {},
     "output_type": "execute_result"
    }
   ],
   "source": [
    "([rfib(i) for i in range(10)],\n",
    "[cfib(i) for i in range(10)])"
   ]
  },
  {
   "cell_type": "code",
   "execution_count": 34,
   "metadata": {
    "collapsed": false
   },
   "outputs": [
    {
     "data": {
      "text/plain": [
       "10946"
      ]
     },
     "execution_count": 34,
     "metadata": {},
     "output_type": "execute_result"
    }
   ],
   "source": [
    "fib(rfib(cfib(6)))"
   ]
  },
  {
   "cell_type": "code",
   "execution_count": 38,
   "metadata": {
    "collapsed": false
   },
   "outputs": [
    {
     "name": "stdout",
     "output_type": "stream",
     "text": [
      "total 384\r\n",
      "drwxr-xr-x  17 bussonniermatthias  staff    578 Aug  3 17:10 \u001b[34m.\u001b[m\u001b[m/\r\n",
      "drwxr-xr-x  13 bussonniermatthias  staff    442 Aug  3 11:06 \u001b[34m..\u001b[m\u001b[m/\r\n",
      "drwxr-xr-x   3 bussonniermatthias  staff    102 Aug  3 09:11 \u001b[34m.ipynb_checkpoints\u001b[m\u001b[m/\r\n",
      "-rw-r--r--   1 bussonniermatthias  staff    254 Aug  3 17:09 Cargo.lock\r\n",
      "-rw-r--r--   1 bussonniermatthias  staff    197 Aug  3 17:09 Cargo.toml\r\n",
      "-rw-r--r--   1 bussonniermatthias  staff  27147 Aug  3 17:10 Cross Language Integration.ipynb\r\n",
      "-rw-r--r--   1 bussonniermatthias  staff  17966 Aug  3 17:09 _cffi_AAOYppblFI.c\r\n",
      "-rwxr-xr-x   1 bussonniermatthias  staff   9980 Aug  3 17:09 \u001b[31m_cffi_AAOYppblFI.cpython-35m-darwin.so\u001b[m\u001b[m*\r\n",
      "-rw-r--r--   1 bussonniermatthias  staff  19344 Aug  3 17:09 _cffi_AAOYppblFI.o\r\n",
      "-rw-r--r--   1 bussonniermatthias  staff  17966 Aug  3 17:09 _cffi_lJXVAEAmUh.c\r\n",
      "-rwxr-xr-x   1 bussonniermatthias  staff   9980 Aug  3 17:09 \u001b[31m_cffi_lJXVAEAmUh.cpython-35m-darwin.so\u001b[m\u001b[m*\r\n",
      "-rw-r--r--   1 bussonniermatthias  staff  19344 Aug  3 17:09 _cffi_lJXVAEAmUh.o\r\n",
      "-rw-r--r--   1 bussonniermatthias  staff  17966 Aug  3 17:08 _cffi_oSgCTyZTfi.c\r\n",
      "-rwxr-xr-x   1 bussonniermatthias  staff   9980 Aug  3 17:08 \u001b[31m_cffi_oSgCTyZTfi.cpython-35m-darwin.so\u001b[m\u001b[m*\r\n",
      "-rw-r--r--   1 bussonniermatthias  staff  19344 Aug  3 17:08 _cffi_oSgCTyZTfi.o\r\n",
      "drwxr-xr-x   3 bussonniermatthias  staff    102 Aug  3 14:27 \u001b[34msrc\u001b[m\u001b[m/\r\n",
      "drwxr-xr-x   3 bussonniermatthias  staff    102 Aug  3 14:31 \u001b[34mtarget\u001b[m\u001b[m/\r\n"
     ]
    }
   ],
   "source": [
    "ls -al"
   ]
  },
  {
   "cell_type": "code",
   "execution_count": 35,
   "metadata": {
    "collapsed": true
   },
   "outputs": [],
   "source": [
    "import itertools"
   ]
  },
  {
   "cell_type": "code",
   "execution_count": 36,
   "metadata": {
    "collapsed": false
   },
   "outputs": [
    {
     "data": {
      "text/plain": [
       "[(<function __main__.fib>,\n",
       "  <function _cffi_lJXVAEAmUh.CompiledLib.cfib>,\n",
       "  <cdata 'int(*)(int)' 0x120799b40>),\n",
       " (<function __main__.fib>,\n",
       "  <cdata 'int(*)(int)' 0x120799b40>,\n",
       "  <function _cffi_lJXVAEAmUh.CompiledLib.cfib>),\n",
       " (<function _cffi_lJXVAEAmUh.CompiledLib.cfib>,\n",
       "  <function __main__.fib>,\n",
       "  <cdata 'int(*)(int)' 0x120799b40>),\n",
       " (<function _cffi_lJXVAEAmUh.CompiledLib.cfib>,\n",
       "  <cdata 'int(*)(int)' 0x120799b40>,\n",
       "  <function __main__.fib>),\n",
       " (<cdata 'int(*)(int)' 0x120799b40>,\n",
       "  <function __main__.fib>,\n",
       "  <function _cffi_lJXVAEAmUh.CompiledLib.cfib>),\n",
       " (<cdata 'int(*)(int)' 0x120799b40>,\n",
       "  <function _cffi_lJXVAEAmUh.CompiledLib.cfib>,\n",
       "  <function __main__.fib>)]"
      ]
     },
     "execution_count": 36,
     "metadata": {},
     "output_type": "execute_result"
    }
   ],
   "source": [
    "list(itertools.permutations([fib,cfib,rfib]))"
   ]
  },
  {
   "cell_type": "code",
   "execution_count": 37,
   "metadata": {
    "collapsed": false
   },
   "outputs": [
    {
     "name": "stdout",
     "output_type": "stream",
     "text": [
      "[<class 'function'>, <class 'builtin_function_or_method'>, <class '_cffi_backend.CData'>]\n",
      "10946\n",
      "[<class 'function'>, <class '_cffi_backend.CData'>, <class 'builtin_function_or_method'>]\n",
      "10946\n",
      "[<class 'builtin_function_or_method'>, <class 'function'>, <class '_cffi_backend.CData'>]\n",
      "10946\n",
      "[<class 'builtin_function_or_method'>, <class '_cffi_backend.CData'>, <class 'function'>]\n",
      "10946\n",
      "[<class '_cffi_backend.CData'>, <class 'function'>, <class 'builtin_function_or_method'>]\n",
      "10946\n",
      "[<class '_cffi_backend.CData'>, <class 'builtin_function_or_method'>, <class 'function'>]\n",
      "10946\n"
     ]
    }
   ],
   "source": [
    "from time import sleep\n",
    "for x,y,z in itertools.permutations([fib,cfib,rfib]):\n",
    "    print([type(_) for _ in [x,y,z]])\n",
    "    print(x(y(z(6))))"
   ]
  },
  {
   "cell_type": "markdown",
   "metadata": {
    "slideshow": {
     "slide_type": "subslide"
    }
   },
   "source": [
    "### Mix and Match : Rust & C"
   ]
  },
  {
   "cell_type": "code",
   "execution_count": null,
   "metadata": {
    "collapsed": false
   },
   "outputs": [],
   "source": [
    "#sextuple = lambda x:triple(double(x))\n",
    "#sextuple(3)"
   ]
  },
  {
   "cell_type": "markdown",
   "metadata": {
    "slideshow": {
     "slide_type": "slide"
    }
   },
   "source": [
    "## All in one"
   ]
  },
  {
   "cell_type": "code",
   "execution_count": null,
   "metadata": {
    "collapsed": false
   },
   "outputs": [],
   "source": [
    "import sys\n",
    "!#{sys.executable} -m pip install ipywidgets --upgrade"
   ]
  },
  {
   "cell_type": "code",
   "execution_count": null,
   "metadata": {
    "collapsed": false
   },
   "outputs": [],
   "source": [
    "def scan(value):\n",
    "    return [1,3,3,5,5][:len(value)]\n",
    "\n",
    "\n",
    "assert scan([]) == []\n",
    "assert scan([1]) == [1]\n",
    "assert scan([1,3]) == [1,3]\n",
    "assert scan([1,3,1]) == [1,3,3]\n",
    "assert scan([1,3,1,5,3]) == [1,3,3,5,5]"
   ]
  },
  {
   "cell_type": "code",
   "execution_count": null,
   "metadata": {
    "collapsed": false
   },
   "outputs": [],
   "source": [
    "from ipywidgets import interact\n",
    "\n",
    "@interact(x=(5,10))\n",
    "def allinone(x=4):\n",
    "    return triple(fibonacci(x))"
   ]
  },
  {
   "cell_type": "markdown",
   "metadata": {
    "slideshow": {
     "slide_type": "slide"
    }
   },
   "source": [
    "\n",
    "### TL:DR;\n",
    "\n",
    "    (Visualisation Side) \n",
    "      Javascript \n",
    "        -> Python \n",
    "           -> C \n",
    "             -> rust \n",
    "               -> (Julia<->Python)*N\n",
    "    (Data/Computation side)\n",
    "    \n",
    "Note that Python Side, can use SciPy that can rely on C (again) and on Fortran.\n",
    "Not shown here, communication with R, Bash, ...\n",
    "    "
   ]
  },
  {
   "cell_type": "markdown",
   "metadata": {},
   "source": [
    "## If enough time ..."
   ]
  },
  {
   "cell_type": "markdown",
   "metadata": {},
   "source": [
    "Turn this notebook into a presentation"
   ]
  }
 ],
 "metadata": {
  "kernelspec": {
   "display_name": "Python 3",
   "language": "python",
   "name": "python3"
  },
  "language_info": {
   "codemirror_mode": {
    "name": "ipython",
    "version": 3
   },
   "file_extension": ".py",
   "mimetype": "text/x-python",
   "name": "python",
   "nbconvert_exporter": "python",
   "pygments_lexer": "ipython3",
   "version": "3.5.2"
  },
  "widgets": {
   "state": {},
   "version": "1.1.1"
  }
 },
 "nbformat": 4,
 "nbformat_minor": 1
}
