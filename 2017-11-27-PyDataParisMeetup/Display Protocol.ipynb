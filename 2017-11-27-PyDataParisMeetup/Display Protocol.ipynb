{
 "cells": [
  {
   "cell_type": "markdown",
   "metadata": {},
   "source": [
    "# Jupyter and IPython display protocol"
   ]
  },
  {
   "cell_type": "code",
   "execution_count": null,
   "metadata": {},
   "outputs": [],
   "source": [
    "import pandas as pd\n",
    "import seaborn.apionly as sns\n",
    "iris = sns.load_dataset('iris')"
   ]
  },
  {
   "cell_type": "code",
   "execution_count": null,
   "metadata": {},
   "outputs": [],
   "source": [
    "iris.head()"
   ]
  },
  {
   "cell_type": "markdown",
   "metadata": {},
   "source": [
    "## Modifying objects reprs"
   ]
  },
  {
   "cell_type": "code",
   "execution_count": null,
   "metadata": {},
   "outputs": [],
   "source": [
    "class MultiMime:\n",
    "    \n",
    "    def __repr__(self):\n",
    "        return \"this is the repr\"\n",
    "    \n",
    "    def _repr_html_(self):\n",
    "        return \"This <b>is</b> html\"\n",
    "    \n",
    "    def _repr_markdown_(self):\n",
    "        return \"This **is** markdown\"\n",
    "\n",
    "    def _repr_latex_(self):\n",
    "        return \"$ Latex \\otimes mimetype $\""
   ]
  },
  {
   "cell_type": "code",
   "execution_count": null,
   "metadata": {},
   "outputs": [],
   "source": [
    "display(MultiMime())"
   ]
  },
  {
   "cell_type": "code",
   "execution_count": null,
   "metadata": {},
   "outputs": [],
   "source": [
    "MultiMime()"
   ]
  },
  {
   "cell_type": "code",
   "execution_count": null,
   "metadata": {},
   "outputs": [],
   "source": [
    "# restart the kernel\n",
    "\n",
    "MultiMime() # SHould fail with kernel restarted"
   ]
  },
  {
   "cell_type": "markdown",
   "metadata": {},
   "source": [
    "## External formatters"
   ]
  },
  {
   "cell_type": "markdown",
   "metadata": {},
   "source": [
    "As a visual example we'll use Orly Parody books covers, in particular a small resolution of some of them to limit the amount of data we'll be working with. "
   ]
  },
  {
   "cell_type": "code",
   "execution_count": null,
   "metadata": {},
   "outputs": [],
   "source": [
    "cd thumb"
   ]
  },
  {
   "cell_type": "markdown",
   "metadata": {},
   "source": [
    "Let's see some of the images present in this folder:"
   ]
  },
  {
   "cell_type": "code",
   "execution_count": null,
   "metadata": {},
   "outputs": [],
   "source": [
    "names = !ls *.png\n",
    "names[:20], f\"{len(names) - 10} more\""
   ]
  },
  {
   "cell_type": "code",
   "execution_count": null,
   "metadata": {},
   "outputs": [],
   "source": [
    "from IPython.display import Image"
   ]
  },
  {
   "cell_type": "code",
   "execution_count": null,
   "metadata": {},
   "outputs": [],
   "source": [
    "im = Image(names[0])\n",
    "im"
   ]
  },
  {
   "cell_type": "code",
   "execution_count": null,
   "metadata": {},
   "outputs": [],
   "source": [
    "from random import choices\n",
    "mylist = list(map(Image, set(choices(names, k=10))))\n",
    "mylist"
   ]
  },
  {
   "cell_type": "code",
   "execution_count": null,
   "metadata": {},
   "outputs": [],
   "source": [
    "import base64\n",
    "def tag_from_data(data, size='100%'):\n",
    "    return '''<img\n",
    "                    style=\"\n",
    "                        display:inline;\n",
    "                        width:{1};\n",
    "                        max-width:400px;\n",
    "                        padding:10px;\n",
    "                        margin-top:14px\"\n",
    "                    onMouseOver=\"this.style['box-shadow']='5px 5px 30px 0px rgba(163,163,163,1)'\" \n",
    "                    onMouseOut=\"this.style['box-shadow']=''\"\n",
    "                    src=\"data:image/png;base64,{0}\" \n",
    "             />'''.format(''.join(base64.encodebytes(data).decode().split('\\n')), size)\n",
    "\n",
    "def html_list_formatter(ll):\n",
    "    html = get_ipython().display_formatter.formatters['text/html']\n",
    "    reps = []\n",
    "    for o in ll:\n",
    "        if isinstance(o, Image):\n",
    "            reps.append(tag_from_data(o.data, '200px') )\n",
    "        else: \n",
    "            h = html(o)\n",
    "            if h:    \n",
    "                reps.append(h)\n",
    "            else:\n",
    "                reps.append(repr(o)+'')\n",
    "    \n",
    "    return '<span>['+','.join(reps)+']</span>'"
   ]
  },
  {
   "cell_type": "markdown",
   "metadata": {},
   "source": [
    "Same as before, with square bracket after and before, and a bit of styling that change the drop shadow on hover. Now we register the above with IPython:"
   ]
  },
  {
   "cell_type": "code",
   "execution_count": null,
   "metadata": {},
   "outputs": [],
   "source": [
    "mylist"
   ]
  },
  {
   "cell_type": "code",
   "execution_count": null,
   "metadata": {},
   "outputs": [],
   "source": [
    "ipython = get_ipython()\n",
    "html_formatter = ipython.display_formatter.formatters['text/html']\n",
    "html_formatter.for_type(list, html_list_formatter)"
   ]
  },
  {
   "cell_type": "code",
   "execution_count": null,
   "metadata": {
    "scrolled": false
   },
   "outputs": [],
   "source": [
    "mylist"
   ]
  },
  {
   "cell_type": "markdown",
   "metadata": {},
   "source": [
    "## Disp\n",
    "\n",
    "External integration for some already existing object is available in [disp](https://github.com/ipython/disp), in particular you will find representation for SparkContext, `requests`'s `Responses` object (collapsible json content and headers), as well as a couple others. "
   ]
  },
  {
   "cell_type": "code",
   "execution_count": null,
   "metadata": {},
   "outputs": [],
   "source": [
    "from requests.models import Response\n",
    "import requests"
   ]
  },
  {
   "cell_type": "code",
   "execution_count": null,
   "metadata": {},
   "outputs": [],
   "source": [
    "r = requests.get('https://api.github.com') # http://localhost:8888/api/contents is down/no-network\n",
    "r"
   ]
  },
  {
   "cell_type": "code",
   "execution_count": null,
   "metadata": {},
   "outputs": [],
   "source": [
    "r.json()"
   ]
  },
  {
   "cell_type": "markdown",
   "metadata": {},
   "source": [
    "### Existing formatters"
   ]
  },
  {
   "cell_type": "code",
   "execution_count": null,
   "metadata": {},
   "outputs": [],
   "source": [
    "from disp.py3only import html_formatter_for_Response\n",
    "html_formatter.for_type(Response, html_formatter_for_Response)"
   ]
  },
  {
   "cell_type": "code",
   "execution_count": null,
   "metadata": {
    "scrolled": true
   },
   "outputs": [],
   "source": [
    "r"
   ]
  },
  {
   "cell_type": "code",
   "execution_count": null,
   "metadata": {},
   "outputs": [],
   "source": []
  }
 ],
 "metadata": {
  "kernelspec": {
   "display_name": "PythonRoot",
   "language": "python",
   "name": "pythonroot"
  },
  "language_info": {
   "codemirror_mode": {
    "name": "ipython",
    "version": 3
   },
   "file_extension": ".py",
   "mimetype": "text/x-python",
   "name": "python",
   "nbconvert_exporter": "python",
   "pygments_lexer": "ipython3",
   "version": "3.6.3"
  }
 },
 "nbformat": 4,
 "nbformat_minor": 2
}
