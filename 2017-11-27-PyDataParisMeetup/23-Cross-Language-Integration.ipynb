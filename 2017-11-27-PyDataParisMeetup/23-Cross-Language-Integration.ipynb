{
 "cells": [
  {
   "cell_type": "markdown",
   "metadata": {},
   "source": [
    "# IPython and cross language integration"
   ]
  },
  {
   "cell_type": "markdown",
   "metadata": {},
   "source": [
    "See more at https://carreau.github.io/posts/23-Cross-Language-Integration.html"
   ]
  },
  {
   "cell_type": "code",
   "execution_count": 1,
   "metadata": {},
   "outputs": [
    {
     "name": "stdout",
     "output_type": "stream",
     "text": [
      "23-Cross-Language-Integration.ipynb     \u001b[31m_cffi_bBaIKmNqLb.cpython-36m-darwin.so\u001b[m\u001b[m*\r\n",
      "Cargo.lock                              _cffi_bBaIKmNqLb.o\r\n",
      "Cargo.toml                              \u001b[31m_cffi_jRThTFeMdJ.cpython-36m-darwin.so\u001b[m\u001b[m*\r\n",
      "Display Protocol.ipynb                  \u001b[31m_cffi_pvqFcBJDkY.cpython-36m-darwin.so\u001b[m\u001b[m*\r\n",
      "Makefile                                \u001b[34mdocs\u001b[m\u001b[m/\r\n",
      "Meetup.md                               environment.yml\r\n",
      "Python Interactivity.ipynb              jupytercon.md\r\n",
      "\u001b[34m__pycache__\u001b[m\u001b[m/                            requirements.txt\r\n",
      "\u001b[31m_cffi_EPANswFypW.cpython-36m-darwin.so\u001b[m\u001b[m* \u001b[34msrc\u001b[m\u001b[m/\r\n",
      "_cffi_JUdAsooXKS.c                      \u001b[34mtarget\u001b[m\u001b[m/\r\n",
      "\u001b[31m_cffi_JUdAsooXKS.cpython-36m-darwin.so\u001b[m\u001b[m* \u001b[34mtheme\u001b[m\u001b[m/\r\n",
      "_cffi_JUdAsooXKS.o                      \u001b[34mthumb\u001b[m\u001b[m/\r\n",
      "\u001b[31m_cffi_STSXgXPxcK.cpython-36m-darwin.so\u001b[m\u001b[m* tree_format.py\r\n",
      "_cffi_bBaIKmNqLb.c\r\n"
     ]
    }
   ],
   "source": [
    "ls"
   ]
  },
  {
   "cell_type": "code",
   "execution_count": 2,
   "metadata": {},
   "outputs": [
    {
     "data": {
      "text/plain": [
       "'/Users/bussonniermatthias/talks/talks/2017-11-27-PyDataParisMeetup'"
      ]
     },
     "execution_count": 2,
     "metadata": {},
     "output_type": "execute_result"
    }
   ],
   "source": [
    "pwd"
   ]
  },
  {
   "cell_type": "code",
   "execution_count": 3,
   "metadata": {
    "collapsed": false
   },
   "outputs": [
    {
     "data": {
      "text/plain": [
       "['23-Cross-Language-Integration.ipynb',\n",
       " 'Display Protocol.ipynb',\n",
       " 'Python Interactivity.ipynb']"
      ]
     },
     "execution_count": 3,
     "metadata": {},
     "output_type": "execute_result"
    }
   ],
   "source": [
    "files = !ls *.ipynb\n",
    "files"
   ]
  },
  {
   "cell_type": "markdown",
   "metadata": {},
   "source": [
    "We also let you expand Python variable into shell commands:"
   ]
  },
  {
   "cell_type": "code",
   "execution_count": 4,
   "metadata": {},
   "outputs": [],
   "source": [
    "who = 'Paris'"
   ]
  },
  {
   "cell_type": "code",
   "execution_count": 5,
   "metadata": {},
   "outputs": [
    {
     "name": "stdout",
     "output_type": "stream",
     "text": [
      "Hello Paris\r\n"
     ]
    }
   ],
   "source": [
    "!echo \"Hello \"{who}"
   ]
  },
  {
   "cell_type": "markdown",
   "metadata": {},
   "source": [
    "## Multi languages"
   ]
  },
  {
   "cell_type": "code",
   "execution_count": 6,
   "metadata": {
    "collapsed": true
   },
   "outputs": [],
   "source": [
    "def fib(n):\n",
    "    \"\"\"\n",
    "    A simple definition of fibonacci manually unrolled\n",
    "    \"\"\"\n",
    "    if n<2:\n",
    "        return 1\n",
    "    x,y = 1,1\n",
    "    for i in range(n-2):\n",
    "        x,y = y,x+y\n",
    "    return y"
   ]
  },
  {
   "cell_type": "code",
   "execution_count": 7,
   "metadata": {
    "collapsed": false
   },
   "outputs": [
    {
     "data": {
      "text/plain": [
       "[1, 1, 2, 3, 5, 8, 13, 21, 34]"
      ]
     },
     "execution_count": 7,
     "metadata": {},
     "output_type": "execute_result"
    }
   ],
   "source": [
    "[fib(i) for i in range(1,10)]"
   ]
  },
  {
   "cell_type": "markdown",
   "metadata": {},
   "source": [
    "Store the value from 1 to 30 in `Y`, and graph it."
   ]
  },
  {
   "cell_type": "code",
   "execution_count": 8,
   "metadata": {
    "collapsed": false
   },
   "outputs": [],
   "source": [
    "%matplotlib inline\n",
    "import numpy as np\n",
    "X = np.arange(1,30)\n",
    "Y = np.array([fib(x) for x in X])"
   ]
  },
  {
   "cell_type": "code",
   "execution_count": 9,
   "metadata": {
    "collapsed": false
   },
   "outputs": [
    {
     "data": {
      "text/plain": [
       "Text(0.5,1,'The Fibonacci sequence grows fast !')"
      ]
     },
     "execution_count": 9,
     "metadata": {},
     "output_type": "execute_result"
    },
    {
     "data": {
      "image/png": "[encoded data removed]",
      "text/plain": [
       "<matplotlib.figure.Figure at 0x10d177b70>"
      ]
     },
     "metadata": {},
     "output_type": "display_data"
    }
   ],
   "source": [
    "import matplotlib.pyplot as plt\n",
    "fig, ax = plt.subplots()\n",
    "ax.scatter(X, Y)\n",
    "ax.set_xlabel('n')\n",
    "ax.set_ylabel('fib(n)')\n",
    "ax.set_title('The Fibonacci sequence grows fast !')"
   ]
  },
  {
   "cell_type": "code",
   "execution_count": 10,
   "metadata": {
    "collapsed": false
   },
   "outputs": [],
   "source": [
    "#!a2km add-env 'python 3' DYLD_FALLBACK_LIBRARY_PATH=$HOME/anaconda/pkgs/icu-54.1-0/lib:/Users/bussonniermatthias/anaconda/pkgs/zlib-1.2.8-3/lib "
   ]
  },
  {
   "cell_type": "code",
   "execution_count": 11,
   "metadata": {
    "collapsed": false
   },
   "outputs": [],
   "source": [
    "%load_ext rpy2.ipython"
   ]
  },
  {
   "cell_type": "markdown",
   "metadata": {},
   "source": [
    "The Following will \"Send\" the X and Y array to R."
   ]
  },
  {
   "cell_type": "code",
   "execution_count": 12,
   "metadata": {
    "collapsed": false
   },
   "outputs": [],
   "source": [
    "%Rpush Y X"
   ]
  },
  {
   "cell_type": "markdown",
   "metadata": {},
   "source": [
    "And now let's try to fit a linear model ($ln(Y) = A.X + B$) using R. I'm not a R user myself, so don't take this as idiomatic R."
   ]
  },
  {
   "cell_type": "code",
   "execution_count": 13,
   "metadata": {
    "collapsed": false
   },
   "outputs": [
    {
     "data": {
      "image/png": "[encoded data removed]"
     },
     "metadata": {},
     "output_type": "display_data"
    }
   ],
   "source": [
    "%%R\n",
    "my_summary = summary(lm(log(Y)~X))\n",
    "val <- my_summary$coefficients\n",
    "\n",
    "plot(X, log(Y))\n",
    "abline(my_summary)"
   ]
  },
  {
   "cell_type": "code",
   "execution_count": 14,
   "metadata": {
    "collapsed": false
   },
   "outputs": [
    {
     "data": {
      "text/plain": [
       "\n",
       "Call:\n",
       "lm(formula = log(Y) ~ X)\n",
       "\n",
       "Residuals:\n",
       "      Min        1Q    Median        3Q       Max \n",
       "-0.183663 -0.013497 -0.004137  0.006046  0.296094 \n",
       "\n",
       "Coefficients:\n",
       "             Estimate Std. Error t value Pr(>|t|)    \n",
       "(Intercept) -0.775851   0.026173  -29.64   <2e-16 ***\n",
       "X            0.479757   0.001524  314.84   <2e-16 ***\n",
       "---\n",
       "Signif. codes:  0 ‘***’ 0.001 ‘**’ 0.01 ‘*’ 0.05 ‘.’ 0.1 ‘ ’ 1\n",
       "\n",
       "Residual standard error: 0.06866 on 27 degrees of freedom\n",
       "Multiple R-squared:  0.9997,\tAdjusted R-squared:  0.9997 \n",
       "F-statistic: 9.912e+04 on 1 and 27 DF,  p-value: < 2.2e-16\n",
       "\n"
      ]
     },
     "metadata": {},
     "output_type": "display_data"
    }
   ],
   "source": [
    "%%R\n",
    "my_summary"
   ]
  },
  {
   "cell_type": "code",
   "execution_count": 15,
   "metadata": {
    "collapsed": false
   },
   "outputs": [
    {
     "data": {
      "text/plain": [
       "              Estimate  Std. Error   t value     Pr(>|t|)\n",
       "(Intercept) -0.7758510 0.026172673 -29.64355 3.910319e-22\n",
       "X            0.4797571 0.001523832 314.83597 1.137181e-49\n"
      ]
     },
     "metadata": {},
     "output_type": "display_data"
    }
   ],
   "source": [
    "%%R\n",
    "val"
   ]
  },
  {
   "cell_type": "markdown",
   "metadata": {},
   "source": [
    "Or even the following that _looks_ more like python"
   ]
  },
  {
   "cell_type": "code",
   "execution_count": 16,
   "metadata": {
    "collapsed": false
   },
   "outputs": [
    {
     "data": {
      "text/plain": [
       "array([[ -7.75850975e-01,   2.61726725e-02,  -2.96435519e+01,\n",
       "          3.91031947e-22],\n",
       "       [  4.79757090e-01,   1.52383191e-03,   3.14835966e+02,\n",
       "          1.13718145e-49]])"
      ]
     },
     "execution_count": 16,
     "metadata": {},
     "output_type": "execute_result"
    }
   ],
   "source": [
    "%R val"
   ]
  },
  {
   "cell_type": "markdown",
   "metadata": {},
   "source": [
    "We can even get the variable back from R as Python objects:"
   ]
  },
  {
   "cell_type": "code",
   "execution_count": 17,
   "metadata": {
    "collapsed": false
   },
   "outputs": [
    {
     "data": {
      "text/plain": [
       "(-0.77585097534858738, 0.4797570904348315)"
      ]
     },
     "execution_count": 17,
     "metadata": {},
     "output_type": "execute_result"
    }
   ],
   "source": [
    "coefs = %Rget val\n",
    "y0,k = coefs.T[0]\n",
    "y0,k"
   ]
  },
  {
   "cell_type": "markdown",
   "metadata": {},
   "source": [
    "That's all from the R part. I hope this shows you some of the power of IPython, both in notebook and command line. "
   ]
  },
  {
   "cell_type": "markdown",
   "metadata": {
    "slideshow": {
     "slide_type": "slide"
    }
   },
   "source": [
    "# CFFI"
   ]
  },
  {
   "cell_type": "markdown",
   "metadata": {
    "slideshow": {
     "slide_type": "subslide"
    }
   },
   "source": [
    "## Mix and Match : C"
   ]
  },
  {
   "cell_type": "code",
   "execution_count": 18,
   "metadata": {
    "collapsed": false
   },
   "outputs": [],
   "source": [
    "import cffi_magic"
   ]
  },
  {
   "cell_type": "code",
   "execution_count": 21,
   "metadata": {
    "collapsed": false
   },
   "outputs": [],
   "source": [
    "%%cffi int cfib(int);\n",
    "\n",
    "int cfib(int n)\n",
    "{\n",
    "    int res=0;\n",
    "    if (n <= 2){\n",
    "        res = 1;\n",
    "    } else {\n",
    "        res = cfib(n-1)+cfib(n-2);\n",
    "    }\n",
    "    return res;\n",
    "}"
   ]
  },
  {
   "cell_type": "markdown",
   "metadata": {},
   "source": [
    "The first line take the \"header\" of the function we declare, and the rest of the cell takes the body of this function. The `cfib` function will automatically be made available to you in the main python namespace."
   ]
  },
  {
   "cell_type": "code",
   "execution_count": 22,
   "metadata": {
    "collapsed": false
   },
   "outputs": [
    {
     "data": {
      "text/plain": [
       "5"
      ]
     },
     "execution_count": 22,
     "metadata": {},
     "output_type": "execute_result"
    }
   ],
   "source": [
    "cfib(5) # should be 5 (fixed point)"
   ]
  },
  {
   "cell_type": "code",
   "execution_count": 23,
   "metadata": {
    "collapsed": false
   },
   "outputs": [
    {
     "name": "stdout",
     "output_type": "stream",
     "text": [
      "347 ns ± 41.1 ns per loop (mean ± std. dev. of 7 runs, 1000000 loops each)\n"
     ]
    }
   ],
   "source": [
    "%timeit cfib(10)"
   ]
  },
  {
   "cell_type": "code",
   "execution_count": 24,
   "metadata": {
    "collapsed": false
   },
   "outputs": [
    {
     "name": "stdout",
     "output_type": "stream",
     "text": [
      "1.24 µs ± 356 ns per loop (mean ± std. dev. of 7 runs, 1000000 loops each)\n"
     ]
    }
   ],
   "source": [
    "%timeit fib(10)"
   ]
  },
  {
   "cell_type": "markdown",
   "metadata": {},
   "source": [
    "Not so bad considering the C implementation is recursive, and the Python version is manually hand-rolled. "
   ]
  },
  {
   "cell_type": "markdown",
   "metadata": {
    "slideshow": {
     "slide_type": "subslide"
    }
   },
   "source": [
    "## Mix and Match : rust"
   ]
  },
  {
   "cell_type": "code",
   "execution_count": 25,
   "metadata": {
    "collapsed": false
   },
   "outputs": [
    {
     "name": "stdout",
     "output_type": "stream",
     "text": [
      "injecting `rfib` in user ns\n"
     ]
    }
   ],
   "source": [
    "%%rust int rfib(int);\n",
    "\n",
    "#[no_mangle]\n",
    "pub extern fn rfib(n: i32) -> i32 {\n",
    "    match n {\n",
    "        0 => 1,\n",
    "        1 => 1,\n",
    "        2 => 1,\n",
    "        _ => rfib(n-1)+rfib(n-2)\n",
    "    }\n",
    "}"
   ]
  },
  {
   "cell_type": "code",
   "execution_count": 26,
   "metadata": {
    "collapsed": false
   },
   "outputs": [
    {
     "data": {
      "text/plain": [
       "[1, 1, 2, 3, 5, 8, 13, 21, 34]"
      ]
     },
     "execution_count": 26,
     "metadata": {},
     "output_type": "execute_result"
    }
   ],
   "source": [
    "[rfib(x) for x in range(1,10)]"
   ]
  },
  {
   "cell_type": "code",
   "execution_count": 27,
   "metadata": {
    "collapsed": false,
    "scrolled": true
   },
   "outputs": [
    {
     "name": "stderr",
     "output_type": "stream",
     "text": [
      "/Users/bussonniermatthias/anaconda/lib/python3.6/site-packages/fortranmagic.py:147: UserWarning: get_ipython_cache_dir has moved to the IPython.paths module since IPython 4.0.\n",
      "  self._lib_dir = os.path.join(get_ipython_cache_dir(), 'fortran')\n"
     ]
    },
    {
     "data": {
      "application/javascript": [
       "$.getScript(\"https://raw.github.com/marijnh/CodeMirror/master/mode/fortran/fortran.js\", function () {\n",
       "IPython.config.cell_magic_highlight['magic_fortran'] = {'reg':[/^%%fortran/]};});\n"
      ]
     },
     "metadata": {},
     "output_type": "display_data"
    }
   ],
   "source": [
    "%load_ext fortranmagic"
   ]
  },
  {
   "cell_type": "code",
   "execution_count": 28,
   "metadata": {
    "collapsed": false
   },
   "outputs": [],
   "source": [
    "%%fortran\n",
    "RECURSIVE SUBROUTINE ffib(n, fibo)  \n",
    "    IMPLICIT NONE\n",
    "    INTEGER, INTENT(IN) :: n\n",
    "    INTEGER, INTENT(OUT) :: fibo\n",
    "    INTEGER :: tmp\n",
    "    IF (n <= 2) THEN \n",
    "        fibo = 1\n",
    "    ELSE\n",
    "        CALL ffib(n-1,fibo)\n",
    "        CALL ffib(n-2,tmp)\n",
    "        fibo = fibo + tmp\n",
    "    END IF\n",
    "END SUBROUTINE ffib"
   ]
  },
  {
   "cell_type": "code",
   "execution_count": 29,
   "metadata": {
    "collapsed": false
   },
   "outputs": [
    {
     "data": {
      "text/plain": [
       "[1, 1, 2, 3, 5, 8, 13, 21, 34]"
      ]
     },
     "execution_count": 29,
     "metadata": {},
     "output_type": "execute_result"
    }
   ],
   "source": [
    "[ffib(x) for x in range(1,10)]"
   ]
  },
  {
   "cell_type": "markdown",
   "metadata": {},
   "source": [
    "No surprise here, you are well aware of what we are doing."
   ]
  },
  {
   "cell_type": "markdown",
   "metadata": {},
   "source": [
    "## Cython"
   ]
  },
  {
   "cell_type": "markdown",
   "metadata": {},
   "source": [
    "IPython used to ship with the Cython magic that is now part of [Cython](http://cython.org/) itself.\n",
    "Cython is a superset of Python that compiles to C and importable from Python. You should be a ble to take your python code as is, type annotate it, and get c-like speed.\n",
    "The same principle applies:"
   ]
  },
  {
   "cell_type": "code",
   "execution_count": 30,
   "metadata": {
    "collapsed": false
   },
   "outputs": [],
   "source": [
    "import cython"
   ]
  },
  {
   "cell_type": "code",
   "execution_count": 31,
   "metadata": {
    "collapsed": false
   },
   "outputs": [],
   "source": [
    "%load_ext cython"
   ]
  },
  {
   "cell_type": "code",
   "execution_count": 32,
   "metadata": {
    "collapsed": false
   },
   "outputs": [],
   "source": [
    "%%cython\n",
    "\n",
    "def cyfib(int n): # note the `int` here\n",
    "    \"\"\"\n",
    "    A simple definition of fibonacci manually unrolled\n",
    "    \"\"\"\n",
    "    cdef int x,y # and the `cdef int x,y` here\n",
    "    if n < 2:\n",
    "        return 1\n",
    "    x,y = 1,1\n",
    "    for i in range(n-2):\n",
    "        x,y = y,x+y\n",
    "    return y"
   ]
  },
  {
   "cell_type": "code",
   "execution_count": 33,
   "metadata": {
    "collapsed": false
   },
   "outputs": [
    {
     "data": {
      "text/plain": [
       "[1, 1, 2, 3, 5, 8, 13, 21, 34]"
      ]
     },
     "execution_count": 33,
     "metadata": {},
     "output_type": "execute_result"
    }
   ],
   "source": [
    "[cyfib(x) for x in range(1,10)]"
   ]
  },
  {
   "cell_type": "markdown",
   "metadata": {},
   "source": [
    "###  benchmark"
   ]
  },
  {
   "cell_type": "code",
   "execution_count": 34,
   "metadata": {
    "collapsed": false
   },
   "outputs": [
    {
     "name": "stdout",
     "output_type": "stream",
     "text": [
      "1.07 µs ± 21.8 ns per loop (mean ± std. dev. of 3 runs, 100 loops each)\n"
     ]
    }
   ],
   "source": [
    "%timeit -n100 -r3 fib(5)"
   ]
  },
  {
   "cell_type": "code",
   "execution_count": 35,
   "metadata": {
    "collapsed": false
   },
   "outputs": [
    {
     "name": "stdout",
     "output_type": "stream",
     "text": [
      "436 ns ± 199 ns per loop (mean ± std. dev. of 3 runs, 100 loops each)\n"
     ]
    }
   ],
   "source": [
    "%timeit -n100 -r3 cfib(5)"
   ]
  },
  {
   "cell_type": "code",
   "execution_count": 36,
   "metadata": {
    "collapsed": false
   },
   "outputs": [
    {
     "name": "stdout",
     "output_type": "stream",
     "text": [
      "342 ns ± 13.1 ns per loop (mean ± std. dev. of 3 runs, 100 loops each)\n"
     ]
    }
   ],
   "source": [
    "%timeit -n100 -r3 ffib(5)"
   ]
  },
  {
   "cell_type": "code",
   "execution_count": 37,
   "metadata": {
    "collapsed": false
   },
   "outputs": [
    {
     "name": "stdout",
     "output_type": "stream",
     "text": [
      "127 ns ± 6.5 ns per loop (mean ± std. dev. of 3 runs, 100 loops each)\n"
     ]
    }
   ],
   "source": [
    "%timeit -n100 -r3 cyfib(5)"
   ]
  },
  {
   "cell_type": "markdown",
   "metadata": {},
   "source": [
    "The benchmark result can be astonishing, but keep in mind that the Python and Cython version use manually unrolled loop. Main point being that we reached our goal and used Fortran, Cython, C (and Rust) in the middle of our Python program."
   ]
  },
  {
   "cell_type": "markdown",
   "metadata": {},
   "source": [
    "[let's skip the Rust fib version, it tends to segfault, and it would be sad to segfault now :-) ]"
   ]
  },
  {
   "cell_type": "code",
   "execution_count": 38,
   "metadata": {
    "collapsed": true
   },
   "outputs": [],
   "source": [
    "# %timeit rfib(10)"
   ]
  },
  {
   "cell_type": "markdown",
   "metadata": {},
   "source": [
    "### The Cake is not a lie!"
   ]
  },
  {
   "cell_type": "markdown",
   "metadata": {},
   "source": [
    "So can we do a layer cake? Can we call rust from Python from Fortran from Cython? Or Cython from C from Fortran? Or Fortron from Cytran from Cust?"
   ]
  },
  {
   "cell_type": "code",
   "execution_count": 39,
   "metadata": {
    "collapsed": false
   },
   "outputs": [
    {
     "name": "stdout",
     "output_type": "stream",
     "text": [
      "Pray the demo-gods it wont segfault even without rust...\n"
     ]
    }
   ],
   "source": [
    "import itertools\n",
    "lookup = {'c':cfib,\n",
    "       #'rust': rfib, # as before Rust may segfault, but I dont' know why ...\n",
    "       'python': fib,\n",
    "       'fortran': ffib,\n",
    "       'cython': cyfib\n",
    "         }\n",
    "\n",
    "print(\"Pray the demo-gods it wont segfault even without rust...\")"
   ]
  },
  {
   "cell_type": "code",
   "execution_count": 40,
   "metadata": {
    "collapsed": true
   },
   "outputs": [],
   "source": [
    "for function in lookup.values():\n",
    "    assert function(5) == 5, \"Make sure all is correct or will use 100% CPU for a looong time.\""
   ]
  },
  {
   "cell_type": "code",
   "execution_count": 41,
   "metadata": {
    "collapsed": false
   },
   "outputs": [
    {
     "name": "stdout",
     "output_type": "stream",
     "text": [
      "c -> python -> fortran -> cython : 5\n",
      "c -> python -> cython -> fortran : 5\n",
      "c -> fortran -> python -> cython : 5\n",
      "c -> fortran -> cython -> python : 5\n",
      "c -> cython -> python -> fortran : 5\n",
      "c -> cython -> fortran -> python : 5\n",
      "python -> c -> fortran -> cython : 5\n",
      "python -> c -> cython -> fortran : 5\n",
      "python -> fortran -> c -> cython : 5\n",
      "python -> fortran -> cython -> c : 5\n",
      "python -> cython -> c -> fortran : 5\n",
      "python -> cython -> fortran -> c : 5\n",
      "fortran -> c -> python -> cython : 5\n",
      "fortran -> c -> cython -> python : 5\n",
      "fortran -> python -> c -> cython : 5\n",
      "fortran -> python -> cython -> c : 5\n",
      "fortran -> cython -> c -> python : 5\n",
      "fortran -> cython -> python -> c : 5\n",
      "cython -> c -> python -> fortran : 5\n",
      "cython -> c -> fortran -> python : 5\n",
      "cython -> python -> c -> fortran : 5\n",
      "cython -> python -> fortran -> c : 5\n",
      "cython -> fortran -> c -> python : 5\n",
      "cython -> fortran -> python -> c : 5\n"
     ]
    }
   ],
   "source": [
    "import time\n",
    "for order in itertools.permutations(lookup):\n",
    "    time.sleep(0.3)\n",
    "    t = 5\n",
    "    for f in order:\n",
    "        t = lookup[f](t)\n",
    "    \n",
    "    print(' -> '.join(order), ':', t)"
   ]
  },
  {
   "cell_type": "code",
   "execution_count": null,
   "metadata": {
    "collapsed": false
   },
   "outputs": [],
   "source": [
    "print('It worked ! I can run all the permutations !')"
   ]
  },
  {
   "cell_type": "markdown",
   "metadata": {},
   "source": [
    "# For more, see sharing live objects w/ Julia."
   ]
  },
  {
   "cell_type": "code",
   "execution_count": 40,
   "metadata": {
    "collapsed": false
   },
   "outputs": [],
   "source": [
    "%matplotlib inline"
   ]
  },
  {
   "cell_type": "code",
   "execution_count": null,
   "metadata": {
    "collapsed": false
   },
   "outputs": [
    {
     "name": "stdout",
     "output_type": "stream",
     "text": [
      "Initializing Julia interpreter. This may take some time..."
     ]
    }
   ],
   "source": [
    "%load_ext julia.magic"
   ]
  },
  {
   "cell_type": "code",
   "execution_count": 53,
   "metadata": {
    "collapsed": false
   },
   "outputs": [
    {
     "data": {
      "text/plain": [
       "<PyCall.jlwrap 0.5.0>"
      ]
     },
     "execution_count": 53,
     "metadata": {},
     "output_type": "execute_result"
    }
   ],
   "source": [
    "julia_version = %julia VERSION\n",
    "julia_version # you can see this is a wrapper"
   ]
  },
  {
   "cell_type": "code",
   "execution_count": 55,
   "metadata": {
    "collapsed": false
   },
   "outputs": [],
   "source": [
    "%julia @pyimport matplotlib.pyplot as plt\n",
    "%julia @pyimport numpy as np"
   ]
  },
  {
   "cell_type": "code",
   "execution_count": 56,
   "metadata": {
    "collapsed": false,
    "slideshow": {
     "slide_type": "slide"
    }
   },
   "outputs": [
    {
     "data": {
      "text/plain": [
       "[<matplotlib.lines.Line2D at 0x327caeb70>]"
      ]
     },
     "execution_count": 56,
     "metadata": {},
     "output_type": "execute_result"
    },
    {
     "data": {
      "image/png": "[encoded data removed]",
      "text/plain": [
       "<matplotlib.figure.Figure at 0x11f12d588>"
      ]
     },
     "metadata": {},
     "output_type": "display_data"
    }
   ],
   "source": [
    "%%julia\n",
    "                                        # Note how we mix numpy and julia:\n",
    "t = linspace(0, 2*pi,1000);             # use the julia `linspace` and `pi`\n",
    "s = sin(3*t + 4*np.cos(2*t));           # use the numpy cosine and julia sine\n",
    "fig = plt.gcf()                         # **** WATCH THIS VARIABLE ****\n",
    "plt.plot(t, s, color=\"red\", linewidth=2.0, linestyle=\"--\", label=\"sin(3t+4.cos(2t))\")"
   ]
  },
  {
   "cell_type": "code",
   "execution_count": 57,
   "metadata": {
    "collapsed": false,
    "slideshow": {
     "slide_type": "-"
    }
   },
   "outputs": [
    {
     "data": {
      "image/png": "[encoded data removed]",
      "text/plain": [
       "<matplotlib.figure.Figure at 0x11f12d588>"
      ]
     },
     "execution_count": 57,
     "metadata": {},
     "output_type": "execute_result"
    }
   ],
   "source": [
    "import numpy as np\n",
    "fig = %julia fig\n",
    "fig.axes[0].plot(X[:6], np.log(Y[:6]), '--', label='fib')\n",
    "fig.axes[0].set_title('A weird Julia function and Fib')\n",
    "fig.axes[0].legend()\n",
    "\n",
    "fig"
   ]
  },
  {
   "cell_type": "code",
   "execution_count": 58,
   "metadata": {
    "collapsed": true
   },
   "outputs": [],
   "source": [
    "from __future__ import print_function\n",
    "\n",
    "\n",
    "# julia fib function\n",
    "jlfib = %julia _fib(n, pyfib) = n <= 2 ? 1 : pyfib(n-1, _fib) + pyfib(n-2, _fib)\n",
    "\n",
    "\n",
    "def pyfib(n, _fib):\n",
    "    \"\"\"\n",
    "    Python fib function\n",
    "    \"\"\"\n",
    "    print('(P', end='')\n",
    "    if n <= 2:\n",
    "         r = 1\n",
    "    else:\n",
    "        print('(J', end='')\n",
    "        # here we tell julia (_fib) to recurse using Python\n",
    "        r =  _fib(n-1, pyfib) + _fib(n-2, pyfib)\n",
    "        print(')',end='')\n",
    "    print(')',end='')\n",
    "    return r"
   ]
  },
  {
   "cell_type": "code",
   "execution_count": 59,
   "metadata": {
    "collapsed": false,
    "scrolled": false
   },
   "outputs": [
    {
     "name": "stdout",
     "output_type": "stream",
     "text": [
      "(P(J(P(J(P(J(P(J(P)(P)))(P(J))(P(J))(P)))(P(J(P(J))(P)(P)(P)))(P(J(P(J))(P)(P)(P)))(P(J(P)(P)))))(P(J(P(J(P(J))(P)(P)(P)))(P(J(P)(P)))(P(J(P)(P)))(P(J))))(P(J(P(J(P(J))(P)(P)(P)))(P(J(P)(P)))(P(J(P)(P)))(P(J))))(P(J(P(J(P)(P)))(P(J))(P(J))(P)))))"
     ]
    },
    {
     "data": {
      "text/plain": [
       "55"
      ]
     },
     "execution_count": 59,
     "metadata": {},
     "output_type": "execute_result"
    }
   ],
   "source": [
    "fibonacci = lambda x: pyfib(x, jlfib)\n",
    "fibonacci(10)"
   ]
  }
 ],
 "metadata": {
  "anaconda-cloud": {},
  "kernelspec": {
   "display_name": "PythonRoot",
   "language": "python",
   "name": "pythonroot"
  },
  "language_info": {
   "codemirror_mode": {
    "name": "ipython",
    "version": 3
   },
   "file_extension": ".py",
   "mimetype": "text/x-python",
   "name": "python",
   "nbconvert_exporter": "python",
   "pygments_lexer": "ipython3",
   "version": "3.6.3"
  }
 },
 "nbformat": 4,
 "nbformat_minor": 2
}
