{
 "cells": [
  {
   "cell_type": "markdown",
   "metadata": {},
   "source": [
    "# IPython and cross language integration"
   ]
  },
  {
   "cell_type": "markdown",
   "metadata": {},
   "source": [
    "This is demo on how cross-language integration works in a Jupyter notebook by using the features of the Reference IPython Kernel implementation. These features are completely base on the Kernel so need to be reimplemented on a per-kernel basis. Though they **also** work on pure terminal IPython.\n",
    "\n",
    "Most of what you will see here are _just_ thin wrappers around already existing libraries, that do all the heavy lifinting, we just showing how seamless a cross language environement can be. \n",
    "\n",
    "Note: the term _just_ does not imply that the wrapers are simple, or easy to write. It indicate that the wraper are far from being complete, but that what is shown here is completely doable using normal Python syntax a bit of manual work."
   ]
  },
  {
   "cell_type": "markdown",
   "metadata": {},
   "source": [
    "Understanding the multiple languages themselves is not necessary; most of the example here are self explanatory and define a function that compute the nth `fibonnaci` number. We define it either using the classic recursive implementation, or sometime using an unrolled optimized version. As a reminder the fibbonaci sequence is defines a the following:\n",
    "\n",
    "$$ F_n = \\begin{cases} 1 &\\mbox{if } n \\leq 2 \\\\ \n",
    "F_{n-1}+F_{n-2} & \\mbox{otherwise }\\end{cases}$$"
   ]
  },
  {
   "cell_type": "markdown",
   "metadata": {},
   "source": [
    "The fact that we calculate the fibonaaco sequence as little importance, except that the value of $F_n$ can grow _really_ fast. And the recursive implementation will have a hard time getting beyond (n=100). Be careful especaily if you calculate $F_{F_n}$ or more composition. Rememberring tha n=5 is stable via $F$ might be useful. "
   ]
  },
  {
   "cell_type": "markdown",
   "metadata": {},
   "source": [
    "### No Multiple kernels"
   ]
  },
  {
   "cell_type": "markdown",
   "metadata": {},
   "source": [
    "An often requested feature for the Jupyter Notebook is the ability to have multiple kernels, often in many languages, for a single notebook. \n",
    "\n",
    "This is often a missunderstanding of what having a single kernel means. In particlular having multiple language means that you often need a single process that handle the dispatching of the instructions to the multiple underlying languages, and it is perfectly possible to do that in a Single Kernel which does orchestrate dispatching instruction and moving data around.\n",
    "\n",
    "Wether the multiple languages that get orchestrated together are remote process, or simply library calls or more complex mechanisme becomes an implementation detail.\n",
    "\n",
    "Python is knownto be a good \"Glue\" language, and over the year the IPython kernel as well has some extensions have shown that dynamic cross language integration can be seemleass form the point of view of the user.\n",
    "\n",
    "In the followign we only scratch the surface of what is possible across a variety of languages.\n",
    "\n"
   ]
  },
  {
   "cell_type": "markdown",
   "metadata": {},
   "source": [
    "In the followign you will see 2 constructs:\n",
    "\n",
    "```\n",
    "optional_python_lhs = %language (language RHS expression)\n",
    "```\n",
    "\n",
    "As well as \n",
    "\n",
    "```\n",
    "%%language --cli like aruments\n",
    "A block:\n",
    "  containing expressions and statement\n",
    "from another:\n",
    "  language\n",
    "```"
   ]
  },
  {
   "cell_type": "markdown",
   "metadata": {},
   "source": [
    "# Basic Python cross-language integration"
   ]
  },
  {
   "cell_type": "markdown",
   "metadata": {},
   "source": [
    "Python offer many facilities to call into other languages, wether we \"shell-out\""
   ]
  },
  {
   "cell_type": "code",
   "execution_count": 3,
   "metadata": {
    "collapsed": false
   },
   "outputs": [
    {
     "data": {
      "text/plain": [
       "sys.version_info(major=3, minor=5, micro=2, releaselevel='final', serial=0)"
      ]
     },
     "execution_count": 3,
     "metadata": {},
     "output_type": "execute_result"
    }
   ],
   "source": [
    "import sys\n",
    "sys.version_info"
   ]
  },
  {
   "cell_type": "markdown",
   "metadata": {},
   "source": [
    "## Steamlining calling subprocess"
   ]
  },
  {
   "cell_type": "markdown",
   "metadata": {},
   "source": [
    "Well IPython define what are called Magics  `%something` for line magics, act only on the rest of the line, and call magics (start with `%%`)"
   ]
  },
  {
   "cell_type": "code",
   "execution_count": 4,
   "metadata": {
    "collapsed": false
   },
   "outputs": [],
   "source": [
    "%%ruby --out fib15\n",
    "def fibonacci( n )\n",
    "  return  n  if ( 0..1 ).include? n\n",
    "  ( fibonacci( n - 1 ) + fibonacci( n - 2 ) )\n",
    "end\n",
    "puts fibonacci( 15 )"
   ]
  },
  {
   "cell_type": "code",
   "execution_count": 5,
   "metadata": {
    "collapsed": false
   },
   "outputs": [
    {
     "data": {
      "text/plain": [
       "610"
      ]
     },
     "execution_count": 5,
     "metadata": {},
     "output_type": "execute_result"
    }
   ],
   "source": [
    "int(fib15.strip())"
   ]
  },
  {
   "cell_type": "markdown",
   "metadata": {},
   "source": [
    "Ok, that's somewhat usefull, but not really that much right ? You cannot pass variable in... or can't you ? "
   ]
  },
  {
   "cell_type": "markdown",
   "metadata": {},
   "source": [
    "### Send variables in "
   ]
  },
  {
   "cell_type": "markdown",
   "metadata": {},
   "source": [
    "Calling subprocess can be quite cumbersome when workign interactively"
   ]
  },
  {
   "cell_type": "code",
   "execution_count": 6,
   "metadata": {
    "collapsed": true
   },
   "outputs": [],
   "source": [
    "import random\n",
    "import string\n",
    "\n",
    "def rand_names(k=10,l=10):\n",
    "    for i in range(k):\n",
    "        yield '_' + ''.join(random.choice(string.ascii_letters) for i in range(l))+'.o'\n",
    "    "
   ]
  },
  {
   "cell_type": "markdown",
   "metadata": {},
   "source": [
    "The `!something` expression is – for the purpose of these demo – equivalent to `%sh something` where `$variable` is looked up in `locals()` and replaced by it's `__repr__`"
   ]
  },
  {
   "cell_type": "code",
   "execution_count": 7,
   "metadata": {
    "collapsed": false
   },
   "outputs": [
    {
     "name": "stdout",
     "output_type": "stream",
     "text": [
      "creating file _lvCWMSzTdy.o\n",
      "creating file _sYnrwmVZMo.o\n",
      "creating file _miOgpwjzbO.o\n",
      "creating file _MTPFzRofxS.o\n",
      "creating file _NIxnvXaLgQ.o\n",
      "creating file _ARNcTdekTB.o\n",
      "creating file _JrZSzRwMey.o\n",
      "creating file _xtyIOGNVEx.o\n",
      "creating file _fiHfpHprDU.o\n",
      "creating file _zdpNSYvdbb.o\n"
     ]
    }
   ],
   "source": [
    "for f in rand_names():\n",
    "    print('creating file',f)\n",
    "    !touch $f"
   ]
  },
  {
   "cell_type": "code",
   "execution_count": 8,
   "metadata": {
    "collapsed": false
   },
   "outputs": [
    {
     "name": "stdout",
     "output_type": "stream",
     "text": [
      "Cross Language Integration.ipynb\r\n",
      "Factoring.ipynb\r\n",
      "IPython.ipynb\r\n",
      "LBL-sep-2015.key\r\n",
      "LBL-sep-2015.pdf\r\n",
      "Lorenz Differential Equations.ipynb\r\n",
      "MUSIC21.ipynb\r\n",
      "SymPy.ipynb\r\n",
      "_ARNcTdekTB.o\r\n",
      "_JrZSzRwMey.o\r\n",
      "_MTPFzRofxS.o\r\n",
      "_NIxnvXaLgQ.o\r\n",
      "_fiHfpHprDU.o\r\n",
      "_lvCWMSzTdy.o\r\n",
      "_miOgpwjzbO.o\r\n",
      "_sYnrwmVZMo.o\r\n",
      "_xtyIOGNVEx.o\r\n",
      "_zdpNSYvdbb.o\r\n",
      "notes\r\n"
     ]
    }
   ],
   "source": [
    "ls -1"
   ]
  },
  {
   "cell_type": "code",
   "execution_count": 9,
   "metadata": {
    "collapsed": false
   },
   "outputs": [
    {
     "data": {
      "text/plain": [
       "['_ARNcTdekTB.o',\n",
       " '_JrZSzRwMey.o',\n",
       " '_MTPFzRofxS.o',\n",
       " '_NIxnvXaLgQ.o',\n",
       " '_fiHfpHprDU.o',\n",
       " '_lvCWMSzTdy.o',\n",
       " '_miOgpwjzbO.o',\n",
       " '_sYnrwmVZMo.o',\n",
       " '_xtyIOGNVEx.o',\n",
       " '_zdpNSYvdbb.o']"
      ]
     },
     "execution_count": 9,
     "metadata": {},
     "output_type": "execute_result"
    }
   ],
   "source": [
    "files = !ls *.o\n",
    "files"
   ]
  },
  {
   "cell_type": "code",
   "execution_count": 10,
   "metadata": {
    "collapsed": true
   },
   "outputs": [],
   "source": [
    "!rm -rf  *.{o,c,so} Cargo.* src target"
   ]
  },
  {
   "cell_type": "markdown",
   "metadata": {},
   "source": [
    "_Who said I was going to use [rust-lang.org](https://www.rust-lang.org/en-US/) later ?_"
   ]
  },
  {
   "cell_type": "code",
   "execution_count": 11,
   "metadata": {
    "collapsed": false
   },
   "outputs": [
    {
     "name": "stdout",
     "output_type": "stream",
     "text": [
      "Cross Language Integration.ipynb     Lorenz Differential Equations.ipynb\r\n",
      "Factoring.ipynb                      MUSIC21.ipynb\r\n",
      "IPython.ipynb                        SymPy.ipynb\r\n",
      "LBL-sep-2015.key                     notes\r\n",
      "LBL-sep-2015.pdf\r\n"
     ]
    }
   ],
   "source": [
    "ls"
   ]
  },
  {
   "cell_type": "markdown",
   "metadata": {},
   "source": [
    "Ok, our directory is clean !"
   ]
  },
  {
   "cell_type": "markdown",
   "metadata": {},
   "source": [
    "##  Add some state"
   ]
  },
  {
   "cell_type": "markdown",
   "metadata": {},
   "source": [
    "Ok, that was kind of cute, fire-up a subprocess, serialize, pipe data in as a string, pipe-data out as a string, kill subprocess... What about somemething less state-less ?"
   ]
  },
  {
   "cell_type": "markdown",
   "metadata": {},
   "source": [
    "Ok, that's pretty conveninent, it's kind-of inlineing bash-one liners where you can inject Python strin in it. \n",
    "what about multilines ? "
   ]
  },
  {
   "cell_type": "code",
   "execution_count": 12,
   "metadata": {
    "collapsed": false
   },
   "outputs": [],
   "source": [
    "#!a2km add-env 'python 3' DYLD_FALLBACK_LIBRARY_PATH=/Users/bussonniermatthias/anaconda/pkgs/icu-54.1-0/lib:/Users/bussonniermatthias/anaconda/pkgs/zlib-1.2.8-3/lib "
   ]
  },
  {
   "cell_type": "code",
   "execution_count": 1,
   "metadata": {
    "collapsed": false
   },
   "outputs": [],
   "source": [
    "import rpy2.rinterface"
   ]
  },
  {
   "cell_type": "code",
   "execution_count": 2,
   "metadata": {
    "collapsed": false
   },
   "outputs": [],
   "source": [
    "%matplotlib inline\n",
    "import rpy2.interactive as r\n",
    "import rpy2.interactive.packages # this can take few seconds\n",
    "%load_ext rpy2.ipython\n",
    "from rpy2.interactive import process_revents"
   ]
  },
  {
   "cell_type": "code",
   "execution_count": 3,
   "metadata": {
    "collapsed": true
   },
   "outputs": [],
   "source": [
    "def fib(n):\n",
    "    if n<2:\n",
    "        return 1\n",
    "    x,y = 1,1\n",
    "    for i in range(n-2):\n",
    "        x,y = y,x+y\n",
    "    return y"
   ]
  },
  {
   "cell_type": "code",
   "execution_count": 4,
   "metadata": {
    "collapsed": false
   },
   "outputs": [
    {
     "data": {
      "text/plain": [
       "<matplotlib.collections.PathCollection at 0x11e44c390>"
      ]
     },
     "execution_count": 4,
     "metadata": {},
     "output_type": "execute_result"
    },
    {
     "data": {
      "image/png": "[encoded data removed]",
      "text/plain": [
       "<matplotlib.figure.Figure at 0x11e3ed908>"
      ]
     },
     "metadata": {},
     "output_type": "display_data"
    }
   ],
   "source": [
    "import numpy as np\n",
    "X = np.arange(1,30)\n",
    "Y = np.array([fib(x) for x in X])\n",
    "import matplotlib.pyplot as plt\n",
    "plt.scatter(X, Y)"
   ]
  },
  {
   "cell_type": "code",
   "execution_count": 5,
   "metadata": {
    "collapsed": false
   },
   "outputs": [],
   "source": [
    "%Rpush Y X"
   ]
  },
  {
   "cell_type": "code",
   "execution_count": 6,
   "metadata": {
    "collapsed": false
   },
   "outputs": [
    {
     "data": {
      "text/plain": [
       "\n",
       "Call:\n",
       "lm(formula = log(Y) ~ X)\n",
       "\n",
       "Residuals:\n",
       "      Min        1Q    Median        3Q       Max \n",
       "-0.183663 -0.013497 -0.004137  0.006046  0.296094 \n",
       "\n",
       "Coefficients:\n",
       "             Estimate Std. Error t value Pr(>|t|)    \n",
       "(Intercept) -0.775851   0.026173  -29.64   <2e-16 ***\n",
       "X            0.479757   0.001524  314.84   <2e-16 ***\n",
       "---\n",
       "Signif. codes:  0 ‘***’ 0.001 ‘**’ 0.01 ‘*’ 0.05 ‘.’ 0.1 ‘ ’ 1\n",
       "\n",
       "Residual standard error: 0.06866 on 27 degrees of freedom\n",
       "Multiple R-squared:  0.9997,\tAdjusted R-squared:  0.9997 \n",
       "F-statistic: 9.912e+04 on 1 and 27 DF,  p-value: < 2.2e-16\n",
       "\n"
      ]
     },
     "metadata": {},
     "output_type": "display_data"
    },
    {
     "data": {
      "image/png": "[encoded data removed]"
     },
     "metadata": {},
     "output_type": "display_data"
    }
   ],
   "source": [
    "%%R\n",
    "s = summary(lm(log(Y)~X))\n",
    "val <- s$coefficients\n",
    "\n",
    "plot(X, log(Y))\n",
    "abline(s)\n",
    "s"
   ]
  },
  {
   "cell_type": "markdown",
   "metadata": {},
   "source": [
    "Great, we are happy as $F_n = \\left[\\frac{\\phi^n}{\\sqrt 5}\\right]$, where `[]` is closest integer and $\\phi = \\frac{1+\\sqrt 5}{2}$ "
   ]
  },
  {
   "cell_type": "code",
   "execution_count": 7,
   "metadata": {
    "collapsed": false
   },
   "outputs": [
    {
     "data": {
      "text/plain": [
       "array([[ -7.75850975e-01,   2.61726725e-02,  -2.96435519e+01,\n",
       "          3.91031947e-22],\n",
       "       [  4.79757090e-01,   1.52383191e-03,   3.14835966e+02,\n",
       "          1.13718145e-49]])"
      ]
     },
     "execution_count": 7,
     "metadata": {},
     "output_type": "execute_result"
    }
   ],
   "source": [
    "%R val"
   ]
  },
  {
   "cell_type": "code",
   "execution_count": 8,
   "metadata": {
    "collapsed": false
   },
   "outputs": [
    {
     "data": {
      "text/plain": [
       "(-0.77585097534859138, 0.47975709043483161)"
      ]
     },
     "execution_count": 8,
     "metadata": {},
     "output_type": "execute_result"
    }
   ],
   "source": [
    "coefs = %Rget val\n",
    "y0,k = coefs.T[0]\n",
    "y0,k"
   ]
  },
  {
   "cell_type": "markdown",
   "metadata": {
    "slideshow": {
     "slide_type": "slide"
    }
   },
   "source": [
    "# CFFI"
   ]
  },
  {
   "cell_type": "markdown",
   "metadata": {
    "slideshow": {
     "slide_type": "subslide"
    }
   },
   "source": [
    "## Mix and Match : C"
   ]
  },
  {
   "cell_type": "markdown",
   "metadata": {},
   "source": [
    "Expose some ability to inline C and rust through CFFI"
   ]
  },
  {
   "cell_type": "code",
   "execution_count": 14,
   "metadata": {
    "collapsed": false
   },
   "outputs": [],
   "source": [
    "import cffi_magic"
   ]
  },
  {
   "cell_type": "code",
   "execution_count": 15,
   "metadata": {
    "collapsed": false
   },
   "outputs": [],
   "source": [
    "rm -rf *.o *.c *.so Cargo.* src target"
   ]
  },
  {
   "cell_type": "code",
   "execution_count": 16,
   "metadata": {
    "collapsed": false
   },
   "outputs": [
    {
     "name": "stdout",
     "output_type": "stream",
     "text": [
      "Cross Language Integration.ipynb     Merced.key\r\n",
      "LBL-sep-2015.key                     SymPy.ipynb\r\n",
      "LBL-sep-2015.pdf                     \u001b[34mligo-binder\u001b[m\u001b[m/\r\n",
      "Lorenz Differential Equations.ipynb  notes\r\n"
     ]
    }
   ],
   "source": [
    "ls"
   ]
  },
  {
   "cell_type": "code",
   "execution_count": 18,
   "metadata": {
    "collapsed": false
   },
   "outputs": [],
   "source": [
    "%%cffi int cfib(int);\n",
    "\n",
    "\n",
    "int cfib(int n)\n",
    "{\n",
    "    int res=0;\n",
    "    if (n <= 2){\n",
    "        res = 1;\n",
    "    } else {\n",
    "        res = cfib(n-1)+cfib(n-2);\n",
    "    }\n",
    "    return res;\n",
    "}"
   ]
  },
  {
   "cell_type": "code",
   "execution_count": 19,
   "metadata": {
    "collapsed": false
   },
   "outputs": [
    {
     "data": {
      "text/plain": [
       "5"
      ]
     },
     "execution_count": 19,
     "metadata": {},
     "output_type": "execute_result"
    }
   ],
   "source": [
    "cfib(5)"
   ]
  },
  {
   "cell_type": "markdown",
   "metadata": {
    "slideshow": {
     "slide_type": "subslide"
    }
   },
   "source": [
    "## Mix and Match : rust"
   ]
  },
  {
   "cell_type": "code",
   "execution_count": 21,
   "metadata": {
    "collapsed": false
   },
   "outputs": [
    {
     "name": "stdout",
     "output_type": "stream",
     "text": [
      "injecting  rfib in user ns\n"
     ]
    }
   ],
   "source": [
    "%%rust int rfib(int);\n",
    "\n",
    "#[no_mangle]\n",
    "pub extern fn rfib(n: i32) -> i32 {\n",
    "    match n {\n",
    "        0 => 1,\n",
    "        1 => 1,\n",
    "        2 => 1,\n",
    "        _ => rfib(n-1)+rfib(n-2)\n",
    "    }\n",
    "}"
   ]
  },
  {
   "cell_type": "code",
   "execution_count": 22,
   "metadata": {
    "collapsed": false
   },
   "outputs": [
    {
     "data": {
      "text/plain": [
       "[1, 1, 2, 3, 5, 8, 13, 21, 34]"
      ]
     },
     "execution_count": 22,
     "metadata": {},
     "output_type": "execute_result"
    }
   ],
   "source": [
    "[rfib(x) for x in range(1,10)]"
   ]
  },
  {
   "cell_type": "markdown",
   "metadata": {},
   "source": [
    "## fortran"
   ]
  },
  {
   "cell_type": "code",
   "execution_count": 23,
   "metadata": {
    "collapsed": false,
    "scrolled": true
   },
   "outputs": [
    {
     "name": "stdout",
     "output_type": "stream",
     "text": [
      "The fortranmagic extension is already loaded. To reload it, use:\n",
      "  %reload_ext fortranmagic\n"
     ]
    }
   ],
   "source": [
    "%load_ext fortranmagic"
   ]
  },
  {
   "cell_type": "code",
   "execution_count": 24,
   "metadata": {
    "collapsed": false
   },
   "outputs": [],
   "source": [
    "%%fortran\n",
    "RECURSIVE SUBROUTINE fibonacci(n,fibo)  \n",
    "    IMPLICIT NONE\n",
    "    INTEGER, INTENT(IN) :: n\n",
    "    INTEGER, INTENT(OUT) :: fibo\n",
    "    INTEGER :: tmp\n",
    "    IF (n <= 2) THEN \n",
    "        fibo = 1\n",
    "    ELSE\n",
    "        CALL fibonacci(n-1,fibo)\n",
    "        CALL fibonacci(n-2,tmp)\n",
    "        fibo = fibo + tmp\n",
    "    END IF\n",
    "END SUBROUTINE fibonacci\n"
   ]
  },
  {
   "cell_type": "code",
   "execution_count": 25,
   "metadata": {
    "collapsed": false
   },
   "outputs": [
    {
     "data": {
      "text/plain": [
       "[1, 1, 2, 3, 5, 8, 13, 21, 34]"
      ]
     },
     "execution_count": 25,
     "metadata": {},
     "output_type": "execute_result"
    }
   ],
   "source": [
    "[fibonacci(x) for x in range(1,10)]"
   ]
  },
  {
   "cell_type": "markdown",
   "metadata": {},
   "source": [
    "### The Cake is not a lie !"
   ]
  },
  {
   "cell_type": "code",
   "execution_count": 26,
   "metadata": {
    "collapsed": false
   },
   "outputs": [
    {
     "data": {
      "text/plain": [
       "5"
      ]
     },
     "execution_count": 26,
     "metadata": {},
     "output_type": "execute_result"
    }
   ],
   "source": [
    "fib(rfib(cfib(5)))"
   ]
  },
  {
   "cell_type": "code",
   "execution_count": 28,
   "metadata": {
    "collapsed": false
   },
   "outputs": [
    {
     "name": "stdout",
     "output_type": "stream",
     "text": [
      "Pray the demo-gods it wont segfault\n",
      "c -> fortran -> rust -> python : 5\n",
      "c -> fortran -> python -> rust : 5\n",
      "c -> rust -> fortran -> python : 5\n",
      "c -> rust -> python -> fortran : 5\n",
      "c -> python -> fortran -> rust : 5\n",
      "c -> python -> rust -> fortran : 5\n",
      "fortran -> c -> rust -> python : 5\n",
      "fortran -> c -> python -> rust : 5\n",
      "fortran -> rust -> c -> python : 5\n",
      "fortran -> rust -> python -> c : 5\n",
      "fortran -> python -> c -> rust : 5\n",
      "fortran -> python -> rust -> c : 5\n",
      "rust -> c -> fortran -> python : 5\n",
      "rust -> c -> python -> fortran : 5\n",
      "rust -> fortran -> c -> python : 5\n",
      "rust -> fortran -> python -> c : 5\n",
      "rust -> python -> c -> fortran : 5\n",
      "rust -> python -> fortran -> c : 5\n",
      "python -> c -> fortran -> rust : 5\n",
      "python -> c -> rust -> fortran : 5\n",
      "python -> fortran -> c -> rust : 5\n",
      "python -> fortran -> rust -> c : 5\n",
      "python -> rust -> c -> fortran : 5\n",
      "python -> rust -> fortran -> c : 5\n"
     ]
    }
   ],
   "source": [
    "import itertools\n",
    "lookup = {'c':cfib,\n",
    "       'rust': rfib,\n",
    "       'python': fib,\n",
    "       'fortran': fibonacci}\n",
    "\n",
    "print(\"Pray the demo-gods it wont segfault\")\n",
    "\n",
    "for order in itertools.permutations(lookup):\n",
    "    t = 5\n",
    "    for f in order:\n",
    "        t = lookup[f](t)\n",
    "    \n",
    "    print(' -> '.join(order), ':', t)"
   ]
  },
  {
   "cell_type": "code",
   "execution_count": 29,
   "metadata": {
    "collapsed": false
   },
   "outputs": [
    {
     "name": "stdout",
     "output_type": "stream",
     "text": [
      "it worked !\n"
     ]
    }
   ],
   "source": [
    "print('it worked !')"
   ]
  },
  {
   "cell_type": "markdown",
   "metadata": {},
   "source": [
    "# The layer Cake, with Julia"
   ]
  },
  {
   "cell_type": "code",
   "execution_count": 30,
   "metadata": {
    "collapsed": false
   },
   "outputs": [],
   "source": [
    "%matplotlib inline"
   ]
  },
  {
   "cell_type": "code",
   "execution_count": 31,
   "metadata": {
    "collapsed": false
   },
   "outputs": [
    {
     "name": "stdout",
     "output_type": "stream",
     "text": [
      "Initializing Julia interpreter. This may take some time...\n"
     ]
    }
   ],
   "source": [
    "%load_ext julia.magic"
   ]
  },
  {
   "cell_type": "code",
   "execution_count": 32,
   "metadata": {
    "collapsed": false
   },
   "outputs": [],
   "source": [
    "%julia @pyimport matplotlib.pyplot as plt"
   ]
  },
  {
   "cell_type": "code",
   "execution_count": 33,
   "metadata": {
    "collapsed": true
   },
   "outputs": [],
   "source": [
    "%julia @pyimport numpy as np"
   ]
  },
  {
   "cell_type": "code",
   "execution_count": 34,
   "metadata": {
    "collapsed": false,
    "slideshow": {
     "slide_type": "slide"
    }
   },
   "outputs": [
    {
     "data": {
      "text/plain": [
       "[<matplotlib.lines.Line2D at 0x1398c7c18>]"
      ]
     },
     "execution_count": 34,
     "metadata": {},
     "output_type": "execute_result"
    },
    {
     "data": {
      "image/png": "[encoded data removed]",
      "text/plain": [
       "<matplotlib.figure.Figure at 0x124126d68>"
      ]
     },
     "metadata": {},
     "output_type": "display_data"
    }
   ],
   "source": [
    "%%julia\n",
    "                                        # Note how we mix numpy and julia:\n",
    "t = linspace(0, 2*pi,1000);             # use the julia `linspace` and `pi`\n",
    "s = sin(3*t + 4*np.cos(2*t));           # use the numpy cosine and julia sine\n",
    "fig = plt.gcf()                         # **** WATCH THIS VARIABLE ****\n",
    "plt.plot(t, s, color=\"red\", linewidth=2.0, linestyle=\"--\")"
   ]
  },
  {
   "cell_type": "code",
   "execution_count": 35,
   "metadata": {
    "collapsed": false,
    "slideshow": {
     "slide_type": "-"
    }
   },
   "outputs": [
    {
     "data": {
      "image/png": "[encoded data removed]",
      "text/plain": [
       "<matplotlib.figure.Figure at 0x124126d68>"
      ]
     },
     "execution_count": 35,
     "metadata": {},
     "output_type": "execute_result"
    }
   ],
   "source": [
    "fig = %julia fig\n",
    "fig.axes[0].plot(X[:6],(Y[:6]-2),'--')\n",
    "fig"
   ]
  },
  {
   "cell_type": "code",
   "execution_count": 36,
   "metadata": {
    "collapsed": false,
    "scrolled": false
   },
   "outputs": [
    {
     "name": "stdout",
     "output_type": "stream",
     "text": [
      "(P(J(P(J(P(J(P(J(P)(P)))(P(J))(P(J))(P)))(P(J(P(J))(P)(P)(P)))(P(J(P(J))(P)(P)(P)))(P(J(P)(P)))))(P(J(P(J(P(J))(P)(P)(P)))(P(J(P)(P)))(P(J(P)(P)))(P(J))))(P(J(P(J(P(J))(P)(P)(P)))(P(J(P)(P)))(P(J(P)(P)))(P(J))))(P(J(P(J(P)(P)))(P(J))(P(J))(P)))))"
     ]
    },
    {
     "data": {
      "text/plain": [
       "55"
      ]
     },
     "execution_count": 36,
     "metadata": {},
     "output_type": "execute_result"
    }
   ],
   "source": [
    "from __future__ import print_function\n",
    "\n",
    "jlfib = %julia _fib(n, pyfib) = n <= 2 ? 1 : pyfib(n-1, _fib) + pyfib(n-2, _fib)\n",
    "\n",
    "def pyfib(n, _fib):\n",
    "    print('(P', end='')\n",
    "    if n <= 2:\n",
    "         r = 1\n",
    "    else:\n",
    "        print('(J', end='')\n",
    "        r =  _fib(n-1, pyfib) + _fib(n-2, pyfib)\n",
    "        print(')',end='')\n",
    "    print(')',end='')\n",
    "    return r\n",
    "\n",
    "fibonacci = lambda x: pyfib(x, jlfib)\n",
    "\n",
    "fibonacci(10)"
   ]
  },
  {
   "cell_type": "code",
   "execution_count": 37,
   "metadata": {
    "collapsed": false
   },
   "outputs": [
    {
     "name": "stdout",
     "output_type": "stream",
     "text": [
      "Pfiew\n"
     ]
    }
   ],
   "source": [
    "print('Pfiew')"
   ]
  }
 ],
 "metadata": {
  "anaconda-cloud": {},
  "kernelspec": {
   "display_name": "Python 3",
   "language": "python",
   "name": "python 3"
  },
  "language_info": {
   "codemirror_mode": {
    "name": "ipython",
    "version": 3
   },
   "file_extension": ".py",
   "mimetype": "text/x-python",
   "name": "python",
   "nbconvert_exporter": "python",
   "pygments_lexer": "ipython3",
   "version": "3.5.2"
  }
 },
 "nbformat": 4,
 "nbformat_minor": 1
}
