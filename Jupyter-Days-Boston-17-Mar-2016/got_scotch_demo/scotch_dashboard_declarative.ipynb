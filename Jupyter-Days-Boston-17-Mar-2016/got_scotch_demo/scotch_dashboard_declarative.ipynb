{
 "cells": [
  {
   "cell_type": "markdown",
   "metadata": {
    "urth": {
     "dashboard": {
      "layout": {
       "col": 0,
       "height": 2,
       "row": 0,
       "width": 12
      }
     }
    }
   },
   "source": [
    "# Got Scotch?"
   ]
  },
  {
   "cell_type": "markdown",
   "metadata": {
    "urth": {
     "dashboard": {
      "hidden": true
     }
    }
   },
   "source": [
    "In this notebook, we're going to create a dashboard that recommends scotches based on their taste profiles. This notebook is almost similar to the [scotch_dashboard notebook](./scotch_dashboard.ipynb), but the difference is that we will use **declarative widgets** here instead of **ipywidgets** like in the other notebook.\n",
    "\n",
    "We will have a short intro line indicating which scotch you're examining, followed by a dropdown of all the scotches to pick from. Then on the selection of a scotch, a recommendation table will display the top 5 most similar scotches to your original selection. You can also click on one of the recommendations to examine further in the visualization this scotch's taste profile compared to your original selection. We will allow user to pick the visualization type between a feature table and a bar chart.\n",
    "\n",
    "As mentioned above, we will use jupyter_dashboards and declarative widgets.\n",
    "\n",
    "On your first visit to this notebook, we recommend that you execute one cell at a time as you read along. Later, if you just want to see the demo, select _Cell_ > _Run All_ from the menu bar. Once you've run all of the cells, select _View_ > _View Dashboard_ and then select a scotch to see the similar recommendations. Click on a similar scotch to examine how it's compared to your original selection.\n",
    "\n",
    "__Table of Contents__\n",
    "1. [Load features and similarities data](#Load-Data-Top)\n",
    "2. [Define Functions](#Define-Functions-Top)\n",
    "3. [Set up Widget](#Widget-Setup-Top)\n",
    "4. [Arrange Dashboard Layout](#Arrange-the-Dashboard-Layout-Top)\n"
   ]
  },
  {
   "cell_type": "code",
   "execution_count": null,
   "metadata": {
    "collapsed": false,
    "urth": {
     "dashboard": {}
    }
   },
   "outputs": [],
   "source": [
    "%matplotlib inline"
   ]
  },
  {
   "cell_type": "code",
   "execution_count": null,
   "metadata": {
    "collapsed": false,
    "urth": {
     "dashboard": {}
    }
   },
   "outputs": [],
   "source": [
    "import pandas as pd\n",
    "import seaborn as sns\n",
    "import os\n",
    "from urth.widgets.widget_channels import channel"
   ]
  },
  {
   "cell_type": "markdown",
   "metadata": {
    "urth": {
     "dashboard": {
      "hidden": true
     }
    }
   },
   "source": [
    "We need to import the necessary declarative widgets for this notebook, including Polymer paper-dropdown-menu to show a scotch selector, iron-selector and iron-pages to allow showing/hiding different visualizations, urth-viz-table to show suggestion table and feature table, and urth-viz-bar to display a bar chart."
   ]
  },
  {
   "cell_type": "code",
   "execution_count": null,
   "metadata": {
    "collapsed": false,
    "urth": {
     "dashboard": {
      "hidden": true
     }
    }
   },
   "outputs": [],
   "source": [
    "%%html\n",
    "<link rel='import' href='urth_components/paper-dropdown-menu/paper-dropdown-menu.html' \n",
    "        is='urth-core-import' package='PolymerElements/paper-dropdown-menu'>\n",
    "<link rel='import' href='urth_components/iron-pages/iron-pages.html' \n",
    "        is='urth-core-import' package='PolymerElements/iron-pages'>\n",
    "<link rel='import' href='urth_components/iron-selector/iron-selector.html' \n",
    "        is='urth-core-import' package='PolymerElements/iron-selector'>\n",
    "<link rel=\"import\" href=\"urth_components/urth-viz-table/urth-viz-table.html\" is='urth-core-import'>\n",
    "<link rel=\"import\" href=\"urth_components/urth-viz-bar/urth-viz-bar.html\" is='urth-core-import'>"
   ]
  },
  {
   "cell_type": "markdown",
   "metadata": {
    "collapsed": true,
    "urth": {
     "dashboard": {
      "hidden": true
     }
    }
   },
   "source": [
    "## Load Data <span style=\"float: right; font-size: 0.5em\"><a href=\"#Got-Scotch?\">Top</a></span>"
   ]
  },
  {
   "cell_type": "markdown",
   "metadata": {
    "urth": {
     "dashboard": {
      "hidden": true
     }
    }
   },
   "source": [
    "N.B. We're using absolute paths here to allow this notebook to work even when deployed as a dashboard where Thebe requests a kernel. When it does, it has the Jupyter notebook working directory as the `pwd` in which case a relative path will not work here. \n",
    "\n",
    "This is one of the challenges to be addressed with dashboards when deployed outside the authoring environment: access to data. A simple answer: put the data in a real data store, not local disk."
   ]
  },
  {
   "cell_type": "code",
   "execution_count": null,
   "metadata": {
    "collapsed": false,
    "urth": {
     "dashboard": {}
    }
   },
   "outputs": [],
   "source": [
    "features_df = pd.read_pickle('/home/jovyan/work/got_scotch_demo/datasets/features.dataframe')\n",
    "sim_df = pd.read_pickle('/home/jovyan/work/got_scotch_demo/datasets/sims.dataframe')"
   ]
  },
  {
   "cell_type": "markdown",
   "metadata": {
    "collapsed": true,
    "urth": {
     "dashboard": {
      "hidden": true
     }
    }
   },
   "source": [
    "We will drop the cluster column from *features\\_df*. We don't need it here."
   ]
  },
  {
   "cell_type": "code",
   "execution_count": null,
   "metadata": {
    "collapsed": false,
    "urth": {
     "dashboard": {}
    }
   },
   "outputs": [],
   "source": [
    "features_df = features_df.drop('cluster', axis=1)"
   ]
  },
  {
   "cell_type": "markdown",
   "metadata": {
    "urth": {
     "dashboard": {
      "hidden": true
     }
    }
   },
   "source": [
    "## Define Functions <span style=\"float: right; font-size: 0.5em\"><a href=\"#Got-Scotch?\">Top</a></span>"
   ]
  },
  {
   "cell_type": "markdown",
   "metadata": {
    "urth": {
     "dashboard": {
      "hidden": true
     }
    }
   },
   "source": [
    "Now we need a couple of functions to retrieve similar scotches and get the feature table of a scotch.\n",
    "\n",
    "First, let's define a *get_similar* function, essentially a copy from the [scotch_dashboard notebook](./scotch_dashboard.ipynb) to return the data of the top n similar scotches to a given scotch."
   ]
  },
  {
   "cell_type": "code",
   "execution_count": null,
   "metadata": {
    "collapsed": true,
    "urth": {
     "dashboard": {}
    }
   },
   "outputs": [],
   "source": [
    "def get_similar(name, n, top=True):\n",
    "    a = sim_df[name].order(ascending=False)\n",
    "    a.name = 'Similarity'\n",
    "    df = pd.DataFrame(a) #.join(features_df).iloc[start:end]\n",
    "    return df.head(n) if top else df.tail(n)"
   ]
  },
  {
   "cell_type": "markdown",
   "metadata": {
    "urth": {
     "dashboard": {
      "hidden": true
     }
    }
   },
   "source": [
    "But since urth-viz-table needs the index (distillery) as a regular column with the data, we need to reset the dataframe index so that it becomes a column."
   ]
  },
  {
   "cell_type": "code",
   "execution_count": null,
   "metadata": {
    "collapsed": true,
    "urth": {
     "dashboard": {}
    }
   },
   "outputs": [],
   "source": [
    "def get_similar_for_table(name, n=6):\n",
    "    # select n similar scotches except the first which is the same as name\n",
    "    simTable = get_similar(name, n).iloc[1:]\n",
    "    # turn the index (distillery) into a regular column\n",
    "    return simTable.reset_index()"
   ]
  },
  {
   "cell_type": "markdown",
   "metadata": {
    "urth": {
     "dashboard": {
      "hidden": true
     }
    }
   },
   "source": [
    "We then need another function to retrieve the feature data for a set of scotches as *feature_keys*.\n",
    "\n",
    "And because urth-viz-* requires the data series as columns as opposed to rows, we will have to transpose this dataframe.\n",
    "\n",
    "Then similarly to the similar table above, we also need to reset the index (feature) as a regular column."
   ]
  },
  {
   "cell_type": "code",
   "execution_count": null,
   "metadata": {
    "collapsed": true,
    "urth": {
     "dashboard": {}
    }
   },
   "outputs": [],
   "source": [
    "def get_features_for_chart(feature_keys=[]):\n",
    "    # select the features of the given scotches\n",
    "    featureTable = features_df.loc[feature_keys]\n",
    "    # transpose the dataframe and reset the index so that the first column is every feature (smokey, honey, ...)\n",
    "    # and all the other columns are the series (scotch / distillery names)\n",
    "    return featureTable.T.reset_index()"
   ]
  },
  {
   "cell_type": "markdown",
   "metadata": {
    "urth": {
     "dashboard": {
      "hidden": true
     }
    }
   },
   "source": [
    "We also need another function that takes a scotch name, a similar scotch name and returns a list of these two names. Scotch is the name user picks from the dropdown, and similar is one user picks from the suggestion table."
   ]
  },
  {
   "cell_type": "code",
   "execution_count": null,
   "metadata": {
    "collapsed": false,
    "urth": {
     "dashboard": {}
    }
   },
   "outputs": [],
   "source": [
    "def get_feature_keys(scotch, similar=[]):\n",
    "    if not similar:\n",
    "        return [scotch]\n",
    "    else:\n",
    "        return [scotch, similar[0]]"
   ]
  },
  {
   "cell_type": "markdown",
   "metadata": {
    "urth": {
     "dashboard": {
      "hidden": true
     }
    }
   },
   "source": [
    "## Widget Setup <span style=\"float: right; font-size: 0.5em\"><a href=\"#Got-Scotch?\">Top</a></span>"
   ]
  },
  {
   "cell_type": "markdown",
   "metadata": {
    "urth": {
     "dashboard": {
      "hidden": true
     }
    }
   },
   "source": [
    "Finally, we will set up the dashboard to show a short introduction line about which scotch you're examining, then a scotch dropdown picker, a recommendation table, and a visualization to show how similar a recomended scotch is to your original selection.\n",
    "\n",
    "We will make use of **declarative widget elements** urth-viz-table and urth-viz-bar. All we need to do is give each element the correct data table (via urth-core-function) and when the *selectedScotch* or *similarScotch* selection changes, the urth-core-function elements automatically invoke their function to retrieve the correct data. As opposed to the **ipywidgets** version in [scotch_dashboard notebook](./scotch_dashboard.ipynb), where we have to define (copy code from matplotlib) radar visualization and how the chart should be drawn, then create a radar widget as a Python backend, and also need to create a radar view to serve as the front end."
   ]
  },
  {
   "cell_type": "markdown",
   "metadata": {
    "urth": {
     "dashboard": {
      "hidden": true
     }
    }
   },
   "source": [
    "### Introduction line and Scotch menu dropdown"
   ]
  },
  {
   "cell_type": "markdown",
   "metadata": {
    "urth": {
     "dashboard": {
      "hidden": true
     }
    }
   },
   "source": [
    "Let's start by using a template to display the introduction line. We want to set a variable called *selectedScotch* to **Aberfeldy** as default and display that name in the template.\n",
    "\n",
    "Later, once user selects a different scotch from the menu dropdown, this variable *selectedScotch* will be updated automatically to reflect what the user picks and this template will also update accordingly."
   ]
  },
  {
   "cell_type": "code",
   "execution_count": null,
   "metadata": {
    "collapsed": false,
    "urth": {
     "dashboard": {}
    }
   },
   "outputs": [],
   "source": [
    "channel().set('selectedScotch', 'Aberfeldy')"
   ]
  },
  {
   "cell_type": "code",
   "execution_count": null,
   "metadata": {
    "collapsed": false,
    "scrolled": false,
    "urth": {
     "dashboard": {
      "layout": {
       "col": 0,
       "height": 2,
       "row": 2,
       "width": 12
      }
     }
    }
   },
   "outputs": [],
   "source": [
    "%%html\n",
    "<template is='urth-core-bind'>\n",
    "    <div>If you like <strong>[[selectedScotch]]</strong> you might want to try these five brands. Click one to see how its taste profile compares.</div>\n",
    "</template>\n"
   ]
  },
  {
   "cell_type": "markdown",
   "metadata": {
    "urth": {
     "dashboard": {
      "hidden": true
     }
    }
   },
   "source": [
    "We will now add a Polymer paper-dropdown-menu element to show a picker for the scotches.\n",
    "\n",
    "But before we do that, we will make use of the *sim_df* table, which contains all the names of the scotches, and make it available to this template by using urth-core-dataframe. This urth-core-dataframe element will reference the *sim_df* dataframe, we will call it *all_scotches* for use in the template. \n",
    "\n",
    "We can then use *all_scotches* to get all the names of the available distilleries and create our dropdown. When user selects a scotch, the dropdown element will update its property *selectedItemLabel*. We will bind *selectedItemLabel* to our variable *selectedScotch*, and that's how *selectedScotch* will get updated once a new scotch is picked."
   ]
  },
  {
   "cell_type": "code",
   "execution_count": null,
   "metadata": {
    "collapsed": false,
    "scrolled": true,
    "urth": {
     "dashboard": {
      "layout": {
       "col": 0,
       "height": 6,
       "row": 4,
       "width": 4
      }
     }
    }
   },
   "outputs": [],
   "source": [
    "%%html\n",
    "<template is=\"urth-core-bind\">\n",
    "    <urth-core-dataframe id=\"all\" ref=\"sim_df\" value=\"{{all_scotches}}\" auto></urth-core-dataframe>\n",
    "    <paper-dropdown-menu id=\"scotchSelector\" label=\"Scotch\" selected-item-label=\"{{selectedScotch}}\">\n",
    "        <paper-menu class=\"dropdown-content\" selected=\"0\">\n",
    "            <template is=\"dom-repeat\" items=\"{{all_scotches.columns}}\" as=\"scotch\">\n",
    "                <paper-item>{{scotch}}</paper-item>\n",
    "            </template>\n",
    "        </paper-menu>\n",
    "    </paper-dropdown-menu>\n",
    "</template>\n"
   ]
  },
  {
   "cell_type": "markdown",
   "metadata": {
    "urth": {
     "dashboard": {
      "hidden": true
     }
    }
   },
   "source": [
    "### Suggestion Table"
   ]
  },
  {
   "cell_type": "markdown",
   "metadata": {
    "urth": {
     "dashboard": {
      "hidden": true
     }
    }
   },
   "source": [
    "Now let's add an urth-viz-table to display the 5 similar scotches to the one that user picks from the above dropdown.\n",
    "\n",
    "The data this table needs will be the result from calling our function *get_similar_for_table*. So we will use an urth-core-function to call this function with arguments *name* and *n*, with *name* being the selected Scotch, and *n* is 6 (to retrieve top 5 similar scotches and itself). The return of this function is a dataframe that urth-viz-table will then make use of, we will call it *suggestedTbl*.\n",
    "\n",
    "User has the ability to click any scotch from this table to compare further the taste profile of this scotch compared to the one from the dropdown. We will store user selection to a variable called *similarScotch* so we can use it to generate our feature keys list later."
   ]
  },
  {
   "cell_type": "code",
   "execution_count": null,
   "metadata": {
    "collapsed": false,
    "urth": {
     "dashboard": {
      "layout": {
       "col": 4,
       "height": 6,
       "row": 4,
       "width": 8
      }
     }
    }
   },
   "outputs": [],
   "source": [
    "%%html\n",
    "<template is=\"urth-core-bind\">\n",
    "    <urth-core-function id=\"getSimilarFunc\" ref=\"get_similar_for_table\" arg-name=\"{{selectedScotch}}\" arg-n=\"6\" result=\"{{suggestedTbl}}\" auto></urth-core-function>\n",
    "    <urth-viz-table id=\"suggestionTable\" datarows='{{suggestedTbl.data}}' columns='{{suggestedTbl.columns}}' selection=\"{{similarScotch}}\"></urth-viz-table>\n",
    "</template>"
   ]
  },
  {
   "cell_type": "markdown",
   "metadata": {
    "urth": {
     "dashboard": {
      "hidden": true
     }
    }
   },
   "source": [
    "### Feature Chart"
   ]
  },
  {
   "cell_type": "markdown",
   "metadata": {
    "urth": {
     "dashboard": {
      "hidden": true
     }
    }
   },
   "source": [
    "Lastly, we will display the scotches features with a variety of urth-viz-* elements.\n",
    "\n",
    "We need to use urth-core-function to call *get_feature_keys*, give it the selected scotch name, the similar scotch name user clicked on, and the result of the function call is a list of these two names. We will assign the result to a variable called *feature_keys* that another function *get_features_for_chart* will make use of right after this."
   ]
  },
  {
   "cell_type": "code",
   "execution_count": null,
   "metadata": {
    "collapsed": false,
    "urth": {
     "dashboard": {
      "hidden": true
     }
    }
   },
   "outputs": [],
   "source": [
    "%%html\n",
    "<template is=\"urth-core-bind\">\n",
    "    <urth-core-function id=\"getFeatureKeys\" ref=\"get_feature_keys\" arg-scotch=\"{{selectedScotch}}\" arg-similar=\"{{similarScotch}}\" result=\"{{feature_keys}}\" auto></urth-core-function>\n",
    "</template>"
   ]
  },
  {
   "cell_type": "markdown",
   "metadata": {
    "urth": {
     "dashboard": {
      "hidden": true
     }
    }
   },
   "source": [
    "Similarly to the suggestion table, we need to call function *get_features_for_chart* to retrieve the data for urth-viz-* elements.\n",
    "\n",
    "Once the user clicks one of the 5 similar scotches from the suggestion table above, *feature_keys* variable is updated to include the clicked scotch, and urth-core-function will call its function again to get new feature table, and urth-viz-* will re-render to use this newly updated feature table."
   ]
  },
  {
   "cell_type": "code",
   "execution_count": null,
   "metadata": {
    "collapsed": false,
    "urth": {
     "dashboard": {
      "hidden": true
     }
    }
   },
   "outputs": [],
   "source": [
    "%%html\n",
    "<template is=\"urth-core-bind\">\n",
    "    <urth-core-function id=\"getFeaturesFunc\" ref=\"get_features_for_chart\" arg-feature_keys=\"{{feature_keys}}\" result=\"{{featuresTbl}}\" auto></urth-core-function>\n",
    "</template>"
   ]
  },
  {
   "cell_type": "markdown",
   "metadata": {
    "urth": {
     "dashboard": {
      "hidden": true
     }
    }
   },
   "source": [
    "Now, we define a template to allow user switch between the two different types of chart. We start with setting up an iron-selector element which includes the 2 icons for table and bar chart. When user clicks on any of these 2 icons, the name of the chart is stored as variable *chartType*. Then we set up iron-pages with 2 children pages that contain the two types of chart, each chart type per child page. This iron-pages element will depend on what the variable *chartType* is and show/hide the proper child page."
   ]
  },
  {
   "cell_type": "markdown",
   "metadata": {
    "urth": {
     "dashboard": {
      "hidden": true
     }
    }
   },
   "source": [
    "Let's set *chartType* to be **bar** as default, so the first chart type to show is always a bar chart."
   ]
  },
  {
   "cell_type": "code",
   "execution_count": null,
   "metadata": {
    "collapsed": true,
    "urth": {
     "dashboard": {}
    }
   },
   "outputs": [],
   "source": [
    "channel().set('chartType', 'bar')"
   ]
  },
  {
   "cell_type": "code",
   "execution_count": null,
   "metadata": {
    "collapsed": false,
    "scrolled": false,
    "urth": {
     "dashboard": {
      "layout": {
       "col": 0,
       "height": 18,
       "row": 10,
       "width": 12
      }
     }
    }
   },
   "outputs": [],
   "source": [
    "%%html\n",
    "<template is=\"urth-core-bind\">\n",
    "    <iron-selector id=\"chartSelector\" attr-for-selected=\"name\" selected=\"{{chartType}}\">\n",
    "        <span title=\"Table\" name=\"table\" class=\"fa fa-table fa-2x\"></span>\n",
    "        <span title=\"Bar Chart\" name=\"bar\" class=\"fa fa-bar-chart fa-2x\"></span>\n",
    "    </iron-selector>\n",
    "    <iron-pages id=\"chartPage\" attr-for-selected=\"name\" selected=\"{{chartType}}\">\n",
    "        <div name=\"table\">\n",
    "            <urth-viz-table id=\"tableChart\" datarows=\"{{featuresTbl.data}}\" columns=\"{{featuresTbl.columns}}\"></urth-viz-table>\n",
    "        </div>\n",
    "        <div name=\"bar\">\n",
    "            <urth-viz-bar id=\"barChart\" datarows=\"{{featuresTbl.data}}\" columns=\"{{featuresTbl.columns}}\" auto></urth-viz-bar>\n",
    "        </div>\n",
    "    </iron-pages>\n",
    "</template>"
   ]
  },
  {
   "cell_type": "markdown",
   "metadata": {
    "urth": {
     "dashboard": {
      "hidden": true
     }
    }
   },
   "source": [
    "And finally, we'll include a footer in our dashboard with some attribution information."
   ]
  },
  {
   "cell_type": "markdown",
   "metadata": {
    "urth": {
     "dashboard": {
      "layout": {
       "col": 0,
       "height": 4,
       "row": 28,
       "width": 12
      }
     }
    }
   },
   "source": [
    "Powered by data from https://www.mathstat.strath.ac.uk/outreach/nessie/nessie_whisky.html and inspired by analysis from http://blog.revolutionanalytics.com/2013/12/k-means-clustering-86-single-malt-scotch-whiskies.html. This dashboard originated as a Jupyter Notebook."
   ]
  },
  {
   "cell_type": "markdown",
   "metadata": {
    "urth": {
     "dashboard": {
      "hidden": true
     }
    }
   },
   "source": [
    "## Arrange the Dashboard Layout <span style=\"float: right; font-size: 0.5em\"><a href=\"#Got-Scotch?\">Top</a></span>\n",
    "\n",
    "\n",
    "Select *View > Dashboard Preview* from the menu bar to see the dashboard view now. To return to the regular notebook view, select *View > Notebook*.\n",
    "\n",
    "If you want to arrange the notebook cells differently, select *View > Dashboard Layout*. Then, hover your mouse over the main notebook / dashboard area. When you do, you'll see icons appear that allow you to:\n",
    "\n",
    "- Drag cells to new locations\n",
    "- Resize cells\n",
    "- Show / hide cells in the dashboard view\n",
    "- Flip to editing mode for a cell\n",
    "\n",
    "Save the notebook to save your changes to the layout within the notebook file itself.\n",
    "\n",
    "<div class=\"alert alert-info\" role=\"alert\" style=\"margin-top: 10px\">\n",
    "<p><strong>Note</strong><p>\n",
    "\n",
    "<p>in a fresh notebook, the dashboard will only show cells with non-empty output. All other cells can be found in the *Hidden* section at the bottom of the dashboard layout page. You can quickly add all cell outputs or remove all cell outputs from the dashboard using the show / hide icons that appear in the notebook toolbar when you are in layout mode.</p>\n",
    "</div>"
   ]
  }
 ],
 "metadata": {
  "kernelspec": {
   "display_name": "Python 3",
   "language": "python",
   "name": "python3"
  },
  "language_info": {
   "codemirror_mode": {
    "name": "ipython",
    "version": 3
   },
   "file_extension": ".py",
   "mimetype": "text/x-python",
   "name": "python",
   "nbconvert_exporter": "python",
   "pygments_lexer": "ipython3",
   "version": "3.4.3"
  },
  "urth": {
   "dashboard": {
    "cellMargin": 10,
    "defaultCellHeight": 20,
    "layoutStrategy": "packed",
    "maxColumns": 12
   }
  }
 },
 "nbformat": 4,
 "nbformat_minor": 0
}
