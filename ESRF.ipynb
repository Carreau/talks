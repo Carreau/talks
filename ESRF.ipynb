{
 "cells": [
  {
   "cell_type": "markdown",
   "metadata": {
    "internals": {
     "slide_helper": "subslide_end",
     "slide_type": "subslide"
    },
    "slide_helper": "slide_end",
    "slideshow": {
     "slide_type": "slide"
    }
   },
   "source": [
    "\n",
    "So notebooks with vispy on top of webGL looks like a great solution.\n",
    "We need to be able to demonstrate:\n",
    "* authentication (no access to other people's data)\n",
    "* handling of large dataset (we are moving towards HDF5)\n",
    "* viewing slices (1, 2 or 3D) of datasets of high dimensionality (4,5D)\n",
    "* scripting capability (remotely)\n",
    "\n",
    "\n",
    "Jupyter & IPython, A tool for scientific workflow.\n",
    "\n",
    "The Jupyter/IPython Project and it particular one of the frontend known as the notebook is the perfect polyglot tool for scientific computation workflows. The next stable version of the tools will enable for the first time real multi-user usage and in perfect for data analysis on large remote dataset and interactive exploration with a single installation on a lab cluster.\n",
    "\n",
    "I will show some of the current features of the Jupyter/IPython notebook (multilanguage, rich representation, interactive widgets...) as well as demonstrate the current state of the multi-user integration and architecture. Discuss the curent and futur state of authentication, data sharing model, scalability. \n",
    "\n",
    "I'll also discuss the future developement plan and projected feature like real-time colaboration on documents (like google doc/and google drive integgration), evolution of notebook format to integrate better with publishers.\n",
    "\n"
   ]
  },
  {
   "cell_type": "markdown",
   "metadata": {
    "collapsed": true,
    "internals": {
     "slide_type": "subslide"
    },
    "slideshow": {
     "slide_type": "slide"
    }
   },
   "source": [
    "# Jupyter/IPython\n",
    "\n",
    "## A multi-language architecture for interactive computing"
   ]
  },
  {
   "cell_type": "markdown",
   "metadata": {
    "internals": {
     "slide_helper": "subslide_end"
    },
    "slide_helper": "slide_end",
    "slideshow": {
     "slide_type": "-"
    }
   },
   "source": [
    "## ESRF- November, 24 2014\n",
    "\n",
    "###### Bussonnier Matthias"
   ]
  },
  {
   "cell_type": "markdown",
   "metadata": {
    "internals": {
     "slide_type": "subslide"
    },
    "slideshow": {
     "slide_type": "slide"
    }
   },
   "source": [
    "## About Me:"
   ]
  },
  {
   "cell_type": "markdown",
   "metadata": {
    "internals": {
     "slide_helper": "subslide_end"
    },
    "slide_helper": "slide_end",
    "slideshow": {
     "slide_type": "-"
    }
   },
   "source": [
    " - A physicit\n",
    " - (PhD in BioPhysics)\n",
    " - Invoved in IPython/Jupyter for ~3 years now, \n",
    " - PostDoc in UC Berkley at [Berkeley Institute for Data Science](http://bids.berkeley.edu).\n",
    "     - Work on Software to improve Scientific Workflow.\n",
    "     - Add Realtime and GDrive integration to notebook"
   ]
  },
  {
   "cell_type": "markdown",
   "metadata": {
    "internals": {
     "slide_helper": "subslide_end",
     "slide_type": "subslide"
    },
    "slide_helper": "slide_end",
    "slideshow": {
     "slide_type": "slide"
    }
   },
   "source": [
    "### Quick survey\n",
    "\n",
    "  - who uses Jupyter/IPython\n",
    "  - who know vaguely what Jupyter/IPython\n",
    "  - who does not have a clue"
   ]
  },
  {
   "cell_type": "markdown",
   "metadata": {
    "internals": {
     "slide_type": "subslide"
    },
    "slideshow": {
     "slide_type": "slide"
    }
   },
   "source": [
    "## What is Jupyter/IPython"
   ]
  },
  {
   "cell_type": "markdown",
   "metadata": {
    "internals": {},
    "slideshow": {
     "slide_type": "-"
    }
   },
   "source": [
    "IPython is a set of tool to go from individual exploratory work to production-scale execution and publication."
   ]
  },
  {
   "cell_type": "markdown",
   "metadata": {
    "internals": {},
    "slideshow": {
     "slide_type": "-"
    }
   },
   "source": [
    "<p class='alert alert-warning' style='font-size:120%'>\n",
    "    What I show here is less than 24 hours old, so expect bugs and change in final version of released software. \n",
    "    **Backup** your data if you try.\n",
    "</p>"
   ]
  },
  {
   "cell_type": "markdown",
   "metadata": {
    "internals": {
     "slide_helper": "subslide_end"
    },
    "slide_helper": "slide_end",
    "slideshow": {
     "slide_type": "-"
    }
   },
   "source": [
    "Everything is \n",
    " - on github https://github.com/jupyter and https://github.com/IPython  (for latest dev version)\n",
    " - BSD And Free"
   ]
  },
  {
   "cell_type": "markdown",
   "metadata": {
    "internals": {
     "slide_helper": "subslide_end",
     "slide_type": "subslide"
    },
    "slide_helper": "slide_end",
    "slideshow": {
     "slide_type": "slide"
    }
   },
   "source": [
    "If you want to try now:\n",
    " - tmpnb.org (you can play with live version)\n",
    " - nbviewer.org (see what people are doing)\n",
    " - https://github.com/ipython/ipython/wiki/A-gallery-of-interesting-IPython-Notebooks\n",
    " "
   ]
  },
  {
   "cell_type": "markdown",
   "metadata": {
    "internals": {
     "slide_helper": "subslide_end",
     "slide_type": "subslide"
    },
    "slide_helper": "slide_end",
    "slideshow": {
     "slide_type": "slide"
    }
   },
   "source": [
    "## The team\n",
    "\n",
    "- UC Berkeley/Cal Poly (full time) \n",
    "    - Fernando Perez\n",
    "    - Brian Granger\n",
    "    - Min Ragan Kelley\n",
    "    - Thoma Kluyver\n",
    "    - Jonathan Frederic \n",
    "    - & Me \n",
    "   "
   ]
  },
  {
   "cell_type": "markdown",
   "metadata": {
    "internals": {
     "slide_helper": "subslide_end",
     "slide_type": "subslide"
    },
    "slide_helper": "slide_end",
    "slideshow": {
     "slide_type": "slide"
    }
   },
   "source": [
    "# Current IPython funding\n",
    "<img src=\"fig/Logo_Google.png\" width=20%></img>\n",
    "<img src=\"fig/sloan-logo.png\" width=20%></img>\n",
    "<img src=\"fig/rackspace-logo.png\" width=\"20%\"></img>\n",
    "<img src=\"fig/microsoft-logo.png\" width=20%></img>\n",
    "<img src=\"fig/simons-logo.png\" width=20%></img>\n",
    "<img src=\"fig/nsf-logo.png\" width=10%></img>\n",
    "\n"
   ]
  },
  {
   "cell_type": "markdown",
   "metadata": {
    "internals": {
     "slide_helper": "subslide_end",
     "slide_type": "subslide"
    },
    "slide_helper": "slide_end",
    "slideshow": {
     "slide_type": "slide"
    }
   },
   "source": [
    "### A bit of history"
   ]
  },
  {
   "cell_type": "markdown",
   "metadata": {
    "internals": {
     "slide_helper": "subslide_end",
     "slide_type": "subslide"
    },
    "slide_helper": "subslide_end",
    "slideshow": {
     "slide_type": "slide"
    }
   },
   "source": [
    "<div class=\"slide-header\">From a better shell...</div>\n",
    "### 2001, Fernando P\u00e9rez, instead of a Physics dissertation\n",
    "<center>\n",
    "<img src=\"files/fig/ipython_console4.png\" width=\"80%\">\n",
    "\n",
    "https://gist.github.com/fperez/1579699\n",
    "</center>"
   ]
  },
  {
   "cell_type": "markdown",
   "metadata": {
    "internals": {
     "slide_helper": "subslide_end",
     "slide_type": "subslide"
    },
    "slide_helper": "slide_end",
    "slideshow": {
     "slide_type": "subslide"
    }
   },
   "source": [
    "<div class=\"slide-header\">... to a fancier shell (and a protocol!)...</div>\n",
    "## 2010, E Patterson, Enthought\n",
    "\n",
    "<center>\n",
    "<img src=\"files/fig/ipython_qtconsole.png\" width=\"40%\">\n",
    "</center>"
   ]
  },
  {
   "cell_type": "markdown",
   "metadata": {
    "internals": {
     "slide_helper": "subslide_end",
     "slide_type": "subslide"
    },
    "slide_helper": "slide_end",
    "slideshow": {
     "slide_type": "slide"
    }
   },
   "source": [
    "<div class=\"slide-header\">As well as 6 notebook attempts in 6 years...</div>\n",
    "## T. Matev, T. Alatalo, R. Kern, Min RK, J. Gao, B. Granger\n",
    "<center>\n",
    "<img src=\"files/fig/ipython-http.png\" width=\"70%\">\n",
    "</center>"
   ]
  },
  {
   "cell_type": "markdown",
   "metadata": {
    "internals": {
     "slide_type": "subslide"
    },
    "slideshow": {
     "slide_type": "slide"
    }
   },
   "source": [
    "# Not Python only"
   ]
  },
  {
   "cell_type": "markdown",
   "metadata": {
    "internals": {
     "slide_helper": "subslide_end"
    },
    "slide_helper": "slide_end",
    "slideshow": {
     "slide_type": "-"
    }
   },
   "source": [
    "> \u201cWhy is it called IPython, if it can do Julia, R, Haskell, Ruby, ... ?\u201d\n",
    "\n",
    "And much more.\n",
    "\n",
    "**IJulia**, **IHaskell**, IFSharp, IRuby, IGo, IScala, IMathics, IAldor, **Calico Project**, Lua Kernel, IRKernel, IErlang, IOCaml, IForth, IPerl, IOctave, IScilab, ICSharp, Bash, Clojure Kernel, Hy Kernel"
   ]
  },
  {
   "cell_type": "markdown",
   "metadata": {
    "internals": {
     "slide_helper": "subslide_end",
     "slide_type": "subslide"
    },
    "slide_helper": "slide_end",
    "slideshow": {
     "slide_type": "slide"
    }
   },
   "source": [
    "### Jupyter\n",
    "\n",
    "Everything which is language agnostic\n",
    "    \n",
    "  - Network protocol for interactive computing\n",
    "  - Clients for protocol\n",
    "    - Console\n",
    "    - Qt Console \u2013 Notebook\n",
    "  - Notebook file format & tools (nbconvert...)\n",
    "  - Nbviewer..."
   ]
  },
  {
   "cell_type": "markdown",
   "metadata": {
    "internals": {
     "slide_helper": "subslide_end",
     "slide_type": "subslide"
    },
    "slide_helper": "slide_end",
    "slideshow": {
     "slide_type": "slide"
    }
   },
   "source": [
    "### IPython\n",
    "\n",
    "- Written in Python\n",
    "- Supercharged Python Shell\n",
    "    - \"Magics\", `?/??`\n",
    "    - **some** cross language integration\n",
    "    - rich display protocol\n",
    "- Some Tools for parallel computing\n",
    "- ment to become only one kernel that can be used with jupyter."
   ]
  },
  {
   "cell_type": "markdown",
   "metadata": {
    "internals": {
     "slide_type": "subslide"
    },
    "slideshow": {
     "slide_type": "slide"
    }
   },
   "source": [
    "## A quick introduction to Jupyter Notebook\n",
    "\n",
    "The Notebook is a web-based interface that allows Interactive code editting and code edditing and execution as webb as inclusion of full paragraph of text and rich math. Example with Python:"
   ]
  },
  {
   "cell_type": "code",
   "execution_count": 4,
   "metadata": {
    "collapsed": false,
    "internals": {
     "slide_helper": "subslide_end"
    },
    "slide_helper": "slide_end",
    "slideshow": {
     "slide_type": "-"
    }
   },
   "outputs": [
    {
     "name": "stdout",
     "output_type": "stream",
     "text": [
      "Hello ESRF\n"
     ]
    }
   ],
   "source": [
    "location = 'ESRF'\n",
    "print('Hello', location)"
   ]
  },
  {
   "cell_type": "code",
   "execution_count": 13,
   "metadata": {
    "collapsed": false,
    "internals": {
     "slide_helper": "subslide_end",
     "slide_type": "subslide"
    },
    "slide_helper": "slide_end",
    "slideshow": {
     "slide_type": "slide"
    }
   },
   "outputs": [
    {
     "data": {
      "image/png": "[encoded data removed]",
      "text/plain": [
       "<matplotlib.figure.Figure at 0x1144503c8>"
      ]
     },
     "metadata": {},
     "output_type": "display_data"
    }
   ],
   "source": [
    "%matplotlib inline\n",
    "import matplotlib.pyplot as plt\n",
    "import numpy as np\n",
    "\n",
    "def pl(\u03c9=1.0):\n",
    "    x = np.arange(0,10,0.05)\n",
    "    plt.plot(x, np.sin(\u03c9*x))\n",
    "    \n",
    "pl()"
   ]
  },
  {
   "cell_type": "code",
   "execution_count": 14,
   "metadata": {
    "collapsed": true,
    "internals": {
     "slide_type": "subslide"
    },
    "slideshow": {
     "slide_type": "slide"
    }
   },
   "outputs": [],
   "source": [
    "from IPython.html.widgets import interact"
   ]
  },
  {
   "cell_type": "code",
   "execution_count": 15,
   "metadata": {
    "collapsed": false,
    "internals": {
     "slide_helper": "subslide_end"
    },
    "slide_helper": "slide_end",
    "slideshow": {
     "slide_type": "-"
    }
   },
   "outputs": [
    {
     "data": {
      "image/png": "[encoded data removed]",
      "text/plain": [
       "<matplotlib.figure.Figure at 0x1169e5630>"
      ]
     },
     "metadata": {},
     "output_type": "display_data"
    }
   ],
   "source": [
    "interact(pl)"
   ]
  },
  {
   "cell_type": "markdown",
   "metadata": {
    "internals": {
     "slide_type": "subslide"
    },
    "slideshow": {
     "slide_type": "slide"
    }
   },
   "source": [
    "### Other rich representation"
   ]
  },
  {
   "cell_type": "code",
   "execution_count": 16,
   "metadata": {
    "collapsed": true,
    "internals": {},
    "slideshow": {
     "slide_type": "-"
    }
   },
   "outputs": [],
   "source": [
    "from IPython.display import display\n",
    "\n",
    "from sympy.interactive import printing\n",
    "printing.init_printing(use_latex='mathjax')\n",
    "\n",
    "from __future__ import division\n",
    "import sympy as sym\n",
    "from sympy import *\n",
    "x, y, z = symbols(\"x y z\")\n",
    "f, g, h = map(Function, 'fgh')"
   ]
  },
  {
   "cell_type": "code",
   "execution_count": 17,
   "metadata": {
    "collapsed": false,
    "internals": {
     "slide_helper": "subslide_end"
    },
    "slide_helper": "slide_end",
    "slideshow": {
     "slide_type": "-"
    }
   },
   "outputs": [
    {
     "data": {
      "text/latex": [
       "$$\\frac{3 \\pi}{2} + \\frac{e^{i h{\\left (x \\right )}}}{f{\\left (y \\right )} + g^{2}{\\left (x \\right )}}$$"
      ],
      "text/plain": [
       "         \u2148\u22c5h(x)   \n",
       "3\u22c5\u03c0     \u212f         \n",
       "\u2500\u2500\u2500 + \u2500\u2500\u2500\u2500\u2500\u2500\u2500\u2500\u2500\u2500\u2500\u2500\n",
       " 2            2   \n",
       "      f(y) + g (x)"
      ]
     },
     "execution_count": 17,
     "metadata": {},
     "output_type": "execute_result"
    }
   ],
   "source": [
    "Rational(3,2)*pi + exp(I*h(x)) / (g(x)**2 + f(y))"
   ]
  },
  {
   "cell_type": "markdown",
   "metadata": {
    "internals": {
     "slide_type": "subslide"
    },
    "slideshow": {
     "slide_type": "slide"
    }
   },
   "source": [
    "## A taste of interactivity"
   ]
  },
  {
   "cell_type": "code",
   "execution_count": 18,
   "metadata": {
    "collapsed": false,
    "internals": {
     "slide_helper": "subslide_end"
    },
    "slide_helper": "slide_end",
    "slideshow": {
     "slide_type": "-"
    }
   },
   "outputs": [
    {
     "data": {
      "image/png": "[encoded data removed]",
      "text/plain": [
       "<matplotlib.figure.Figure at 0x118fff3c8>"
      ]
     },
     "metadata": {},
     "output_type": "display_data"
    }
   ],
   "source": [
    "# adapted from a Scott Burns' example.\n",
    "import matplotlib\n",
    "matplotlib.rc('figure', figsize=(8,6))\n",
    "%matplotlib inline\n",
    "\n",
    "from brain_viewer import viewer\n",
    "\n",
    "brain = 'MPRAGE.nii.gz' # this is a T1 image of Scott brain\n",
    "viewer(brain)"
   ]
  },
  {
   "cell_type": "markdown",
   "metadata": {
    "internals": {
     "slide_helper": "subslide_end",
     "slide_type": "subslide"
    },
    "slide_helper": "slide_end",
    "slideshow": {
     "slide_type": "slide"
    }
   },
   "source": [
    "## 3D visualisation\n",
    "\n",
    "3D Visualisation is possible in the notebook using WebGL/[VisPy](./webgl_example_1.ipynb).\n",
    "\n",
    "VisPy Code Camp at ESRF [last Feb](http://cyrille.rossant.net/back-from-our-first-vispy-code-camp-at-esrf/)\n",
    "\n",
    "[Example]([VisPy](./webgl_example_1.ipynb)"
   ]
  },
  {
   "cell_type": "markdown",
   "metadata": {
    "internals": {
     "slide_type": "subslide"
    },
    "slideshow": {
     "slide_type": "slide"
    }
   },
   "source": [
    "## Multilanguage\n",
    "\n",
    "2 types of multi language which are radically differents\n",
    "\n",
    "- Native Kernel \n",
    "    - Python,\n",
    "    - [Julia](http://localhost:8888/tree/talks/Julia-EuroSciPy14)\n",
    "    - Haskell,\n",
    "    - OCaml\n",
    "    - ,...15+)\n",
    "    \n",
    "- Kernel specific binding\n",
    "    - IPython [magics](Interactive%20Fortran.ipynb)\n",
    "    - Julia PyCall, ccall..."
   ]
  },
  {
   "cell_type": "markdown",
   "metadata": {
    "internals": {
     "slide_helper": "subslide_end"
    },
    "slide_helper": "slide_end",
    "slideshow": {
     "slide_type": "-"
    }
   },
   "source": [
    "# Sharing\n",
    "\n",
    "### nbconvert\n",
    "\n",
    "Nbconvert is a library which allow conversion from .ipynb to html, latex, pdf, rst, py .... (etc).\n",
    "it is availlable 'as a service' on [nbviwer.org](http://nbviewer.org) with tight integration into github.\n",
    "\n",
    "\n",
    "## Interactivity in static view\n",
    "\n",
    "- http://nbviewer.ipython.org/url/jakevdp.github.com/downloads/notebooks/mpld3Demo.ipynb"
   ]
  },
  {
   "cell_type": "markdown",
   "metadata": {
    "internals": {
     "slide_type": "subslide"
    },
    "slideshow": {
     "slide_type": "slide"
    }
   },
   "source": [
    "# Architecture and Multi Users"
   ]
  },
  {
   "cell_type": "markdown",
   "metadata": {
    "internals": {},
    "slideshow": {
     "slide_type": "-"
    }
   },
   "source": [
    "Architecture of the notebook\n",
    "\n",
    "![img](notebook_components.png)"
   ]
  },
  {
   "cell_type": "markdown",
   "metadata": {
    "internals": {
     "slide_helper": "subslide_end"
    },
    "slide_helper": "slide_end",
    "slideshow": {
     "slide_type": "-"
    }
   },
   "source": [
    "- Each box can be on a different machine\n",
    "- Each Box can be containerized\n",
    "- The notion of what is where can be confusing for end-user.\n",
    "- Recent technology do not work on  all networks :\n",
    "    - 3 \u00d8MQ and 3 websockets sockets/kernel (file desccriptor limit) \n",
    "    - websocket IE \u2265 10"
   ]
  },
  {
   "cell_type": "markdown",
   "metadata": {
    "collapsed": true,
    "internals": {
     "slide_type": "subslide"
    },
    "slideshow": {
     "slide_type": "slide"
    }
   },
   "source": [
    "## Multi User\n",
    "\n",
    "Work in progress usable/used now\n",
    "  - Even more recent tech (nodejs)\n",
    "  - Slightly in flux\n",
    "  - still limitted doc\n",
    "  - MVP\n",
    "  \n",
    "Frontend capable of spawning Single User servers and redirect to it.\n",
    "  - Unix permission\n",
    "  - Unix Login\n",
    "  - Only spawn SU on local machine.\n",
    "  \n",
    "Each piece can be replaced, \n",
    "  - Comunity prototype of OAuth login\n",
    "  - Comunity prototype of Docker Spawner\n",
    "  \n",
    "Used now:\n",
    "  - tmpnb.org\n",
    "  - [nature demo](http://www.nature.com/news/interactive-notebooks-sharing-the-code-1.16261)\n",
    "  - bryn mawr college [CS teaching](http://jupyter.cs.brynmawr.edu/hub/dblank/public)"
   ]
  },
  {
   "cell_type": "markdown",
   "metadata": {
    "internals": {
     "slide_helper": "subslide_end"
    },
    "slide_helper": "slide_end",
    "slideshow": {
     "slide_type": "-"
    }
   },
   "source": [
    "<img src='fig/arch.png'  width='100%'/>"
   ]
  },
  {
   "cell_type": "markdown",
   "metadata": {
    "internals": {
     "slide_type": "subslide"
    },
    "slideshow": {
     "slide_type": "slide"
    }
   },
   "source": [
    "## Future"
   ]
  },
  {
   "cell_type": "markdown",
   "metadata": {
    "internals": {
     "slide_helper": "subslide_end"
    },
    "slide_helper": "slide_end",
    "slideshow": {
     "slide_type": "-"
    }
   },
   "source": [
    "- in browser terminal\n",
    "- in browser editor \n",
    "- real-time colaboration\n",
    "- static widgets\n"
   ]
  },
  {
   "cell_type": "markdown",
   "metadata": {
    "internals": {
     "slide_helper": "subslide_end",
     "slide_type": "subslide"
    },
    "slide_helper": "slide_end",
    "slideshow": {
     "slide_type": "slide"
    }
   },
   "source": [
    "Questions\n",
    "\n",
    "- What about security ? \n",
    "    \n",
    "    In the multi user server, each component can be isolated/put in VM. Docker was mentionned. \n",
    "    Docker does not directly provide security, but can help with it. \n",
    "    \n",
    "    The 'hub' and the single-user wrapper insure that you are the only one that have access to the server, so you are the only one that should get access to your own computation kernel (as with traditional script) \n",
    "    \n",
    "    With a web base notebook there is also the risk of cross script scripting and all web-based attack. We deal with that by cryptographycally signing the notebooks to be sure that users were the last to modify a notebook. Thus any notebook that does not appear as correctly signed will not display potentially unsafe content. THe owner of the notebook does not see the effect of the signature and thus get dynamic (javascript) content as soon as he/she open the notebook. \n",
    "    \n",
    "    The multiuser server can be runeed as a single unpriviliedged user that can spawn single)user server only which limit its attack area in case of program beeing compromised. \n",
    "    The auth token and alike credential are passed as environement variable (whitelisted) so no user with shell access to the machine can get credential.\n",
    "    \n",
    "    The \"sharing\" of data is the traditional unix model, if you `chmod g+r` I can comme into your home and read your notebook, and can execute them (if data is readable to me) but cannot modify. \n",
    "    if `chmod g+w`I can also write the notebook, but the cryptographic signature still insure I cannot execute malicious code as you when you open them later. \n",
    "    \n",
    " "
   ]
  },
  {
   "cell_type": "markdown",
   "metadata": {
    "internals": {
     "slide_helper": "subslide_end",
     "slide_type": "subslide"
    },
    "slide_helper": "slide_end",
    "slideshow": {
     "slide_type": "slide"
    }
   },
   "source": [
    "   \n",
    "- What about this dynamic plotting library that was not matplotlib but alike. \n",
    "\n",
    "   It's mpld3 by Jake Van Der Plas,it's a wrapper around matplotlib that convert matplotlib figure into javascript-y thing where you can pan and zoom. An alternative is Continuum.io bokeh. \n",
    "   I'm not completly solve on bokeh that have a custom backend that use a custom redis server to do remote data sampling. \n",
    "   "
   ]
  },
  {
   "cell_type": "markdown",
   "metadata": {
    "internals": {
     "slide_helper": "subslide_end",
     "slide_type": "subslide"
    },
    "slide_helper": "slide_end",
    "slideshow": {
     "slide_type": "slide"
    }
   },
   "source": [
    "   \n",
    "- QtConsole Future vs Notebook.\n",
    "\n",
    "    Qtconsole code is a mess. A QtRichTextWidget which is at the base of the implementation does not render recent HTML and is deadly slow if one use javascript. The QtConsole will be splitted in a separate project, and is looking for a maintainer. A better approach would be to reimplement a QtConsole-like frontend that uses a QtWebkitView/ChromeEmbeded structure. It would support much richer medi, youtube video, latex, GoogleMap-like widget, and could be integrated in a rich client.\n",
    "    \n",
    " "
   ]
  },
  {
   "cell_type": "markdown",
   "metadata": {
    "internals": {
     "slide_helper": "subslide_end",
     "slide_type": "subslide"
    },
    "slide_helper": "slide_end",
    "slideshow": {
     "slide_type": "slide"
    }
   },
   "source": [
    "   \n",
    "- Multilanguage integration Fortran/C/Cython/C++ in one kernel\n",
    "    Only the Python kernel do that for the time beeing. in uses some magic to compile on the fly the module with a random name and import it under an alias, it uses hash to ensure the module is recompiled each time. It is a nice trick that work well for interactivity, though languages lke C/Fortran are not made to be interactively used, you will have difficulty to chage the fact. \n",
    "    \n",
    "    Julia have something built in into the language that works well, using standard libray module ccall, or the PyCall package you can natively call into C or python. The fundation of the language are currently modifid to allow the same with C++. As it can call C, it can of course call fortran. A package also allow to call into Java directly. Python is a special case as the `julia` python package can allow the python interpreter to call dirrectly julia. it is though possible to define (as an example) Fibonacci in Julia and in python that call Fib(N-1) of the same language and Fib(n-2) of the other. If you set Fib(1) to raise, the stacktrace will be a layercake of Python and Julia. (which is kinda awesome)"
   ]
  },
  {
   "cell_type": "markdown",
   "metadata": {
    "internals": {
     "slide_helper": "subslide_end",
     "slide_type": "subslide"
    },
    "slide_helper": "slide_end",
    "slideshow": {
     "slide_type": "slide"
    }
   },
   "source": [
    "    \n",
    "- Julia seem awesome. \n",
    "  That not a question, but yes it is. It's almost as simpel as python an can reach Fortran-like performences. example of :\n",
    "  \n",
    "```julia\n",
    "function bar()\n",
    "    k=2\n",
    "    for i=1:10\n",
    "        k=k-2*i+k^2\n",
    "    end\n",
    "    return k\n",
    "end\n",
    "code_native(bar,())\n",
    "```\n",
    "\n",
    "That compile as only 1 assembly instruction as the compile is smart enough to solve this at compile time. Homoiconicity and Macro allow extensive code generation and compile time logic that make it sometime faster than fortran. (Example of Leap-Second date-time library that flatten the binary search tree at compile time). Extensive use of Unicode for compact notation, `\\theta<tab>`quive ou theta, `\\cup` will give you the union symbol which for example  allow to work with sets as you would on paper.  Lots of infix operator are paresd but not defined, which is nice for custom code that woudl be easier to write with custom infix operator, like \\oplus, \\otimes for convoltion, and so on and so forth. The kernel in one of the other kernel that support rich representaiont and have it baked in the language, which allow to run julia on cluster with the overhead the IPython have with the Python kernel. THough the language is still young and the syntax still in motion. So you need to like recompiling every few day or so and be kept informed of the changes. Though it is really promising IMHO. \n",
    "    "
   ]
  },
  {
   "cell_type": "markdown",
   "metadata": {
    "internals": {
     "slide_helper": "subslide_end",
     "slide_type": "subslide"
    },
    "slide_helper": "slide_end",
    "slideshow": {
     "slide_type": "slide"
    }
   },
   "source": [
    "- 3D visualisation & vispy, Re. \n",
    "    Both vispy and IPython are on heavy developpement, so it is still hard to get bleeding edge IPython and bleeding-edg Vispy and have the 2 working (but it can work, we saw one exmaple). Show one related demo that use a Leap-Motion (Microsoft kinect like device) that show that you can see in realtime a 3D representaion of your hand in the browser (coudl be used to manipulate data). \n",
    "    About amount of data this could handle, it depends on the reduction step you do in the kernel. Once you have your 3d data points, up to what can fit in local computer graphic card memeory, you can have 60 FPS in browser rendering. As a non 3D example, one can easly treat a cartographic datased of all the refused/accepted loan in the US and draw the percentage of aceptance of each county in US. The Dataset is several Gigabytes in the kernel. Only local density is send to the browser and map tiling is streamed as needed so as long as the Cluster can process the data fast enough, the map will be smooth in the notebook. \n",
    "    "
   ]
  },
  {
   "cell_type": "markdown",
   "metadata": {
    "collapsed": true,
    "internals": {
     "slide_type": "subslide"
    },
    "slideshow": {
     "slide_type": "slide"
    }
   },
   "source": [
    "   \n",
    "- vispy/3D 3 round: How do we define a 3D reprensentation of an object in python. \n",
    "\n",
    "  Exmaple of html: \n",
    "  \n",
    "```python\n",
    "class Foo(object):\n",
    "   _repr_html_(self):\n",
    "       return \"<b>Hi</b> I am a Foo\"\n",
    "```\n",
    "\n",
    "`Foo()` in the notebook will show HTML. Do the same with a mimetype for 3D representation, and define a handler for it in the notebook in javascript. That's pretty much it. In practice you want to define a a representation for a mimetype like `application/vispy-3D` and hook a javascript handler to it in the frontend. the advantage is the same handler can be reused by julia (for example) by defining in julia roughly `show(io::IO, \"application/vispy-3D\"::Mime, o::Foo)`."
   ]
  }
 ],
 "metadata": {
  "kernelspec": {
   "display_name": "IPython (Python 3)",
   "name": "python3"
  },
  "language_info": {
   "codemirror_mode": {
    "name": "ipython",
    "version": 3
   },
   "mimetype": "text/x-python",
   "name": "python",
   "pygments_lexer": "ipython3",
   "version": "3.4.2"
  },
  "signature": "sha256:e587f384ed9fbf82fafd00783071622b8978b4fa874b27812af142da4b88f495"
 },
 "nbformat": 4,
 "nbformat_minor": 0
}