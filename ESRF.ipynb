{
 "metadata": {
  "kernelspec": {
   "display_name": "IPython (Python 3)",
   "name": "python3"
  },
  "language_info": {
   "codemirror_mode": {
    "name": "ipython",
    "version": 3
   },
   "mimetype": "text/x-python",
   "name": "python",
   "pygments_lexer": "ipython3"
  },
  "name": "",
  "signature": "sha256:0101942592d0e92cfab12c72b5b1b50cf44250936e7d6819bda508211a995d4a"
 },
 "nbformat": 3,
 "nbformat_minor": 0,
 "worksheets": [
  {
   "cells": [
    {
     "cell_type": "heading",
     "level": 1,
     "metadata": {
      "internals": {
       "slide_type": "subslide"
      },
      "slideshow": {
       "slide_type": "slide"
      }
     },
     "source": [
      "Jupyter Project"
     ]
    },
    {
     "cell_type": "heading",
     "level": 2,
     "metadata": {
      "internals": {
       "slide_helper": "subslide_end"
      },
      "slide_helper": "slide_end",
      "slideshow": {
       "slide_type": "-"
      }
     },
     "source": [
      "ESRF- November 2014"
     ]
    },
    {
     "cell_type": "heading",
     "level": 2,
     "metadata": {
      "internals": {
       "slide_type": "subslide"
      },
      "slideshow": {
       "slide_type": "slide"
      }
     },
     "source": [
      "About Me:"
     ]
    },
    {
     "cell_type": "markdown",
     "metadata": {
      "internals": {
       "slide_helper": "subslide_end"
      },
      "slide_helper": "slide_end",
      "slideshow": {
       "slide_type": "-"
      }
     },
     "source": [
      " - A physicit\n",
      " - (PhD in BioPhysics)\n",
      " - Invoved in IPython/Jupyter for ~3 years now, \n",
      " - PostDoc in UC Berkley at [Berkeley Institute for Data Science](http://bids.berkeley.edu).\n",
      "     - Work on Software to inprove Scientific Workflow.\n",
      "     - Add Realtime and GDrive integration to notebook"
     ]
    },
    {
     "cell_type": "markdown",
     "metadata": {},
     "source": [
      "## The team\n",
      "\n",
      "- UC Berkeley (full time) \n",
      "    - Fernando Perez\n",
      "    - Brian Granger\n",
      "    - Min Ragan Kelley\n",
      "    - Thoma Kluyver\n",
      "    - Jonathan Frederic \n",
      "    - & Me \n",
      "   "
     ]
    },
    {
     "cell_type": "markdown",
     "metadata": {
      "internals": {
       "slide_helper": "subslide_end",
       "slide_type": "subslide"
      },
      "slide_helper": "slide_end",
      "slideshow": {
       "slide_type": "slide"
      }
     },
     "source": [
      "### Google\n",
      "* Kayur Patel\n",
      "* Kester Tong\n",
      "* Mark Sandler\n",
      "* Corinna Cortes\n",
      "\n",
      "### Bloomberg\n",
      "* Jason Grout\n",
      "* Sylvain Corlay\n",
      "\n",
      "### yt/NCSA\n",
      "* Matthew Turk\n",
      "\n",
      "### Design\n",
      "* Adrienne Wantulok"
     ]
    },
    {
     "cell_type": "markdown",
     "metadata": {
      "internals": {
       "slide_type": "subslide"
      },
      "slideshow": {
       "slide_type": "slide"
      }
     },
     "source": [
      "# Current IPython funding\n",
      "<img src=\"fig/Logo_Google.png\" width=35%></img>\n",
      "\n",
      "<img src=\"fig/sloan-logo.png\" width=35%></img>\n",
      "\n",
      "<img src=\"fig/microsoft-logo.png\" width=35%></img>\n",
      "\n",
      "<img src=\"fig/simons-logo.png\" width=50%></img>\n",
      "\n",
      "<img src=\"fig/nsf-logo.png\" width=12%></img>\n",
      "\n",
      "<img src=\"fig/rackspace-logo.png\" width=\"30%\"></img>"
     ]
    },
    {
     "cell_type": "code",
     "collapsed": true,
     "input": [],
     "language": "python",
     "metadata": {
      "internals": {
       "slide_helper": "subslide_end"
      },
      "slide_helper": "slide_end",
      "slideshow": {
       "slide_type": "-"
      }
     },
     "outputs": []
    }
   ],
   "metadata": {}
  }
 ]
}