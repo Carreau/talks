{
 "cells": [
  {
   "cell_type": "markdown",
   "metadata": {},
   "source": [
    "## Interactive WebGL trajectory widget\n",
    "\n",
    "Note: this feature requires a 'running' notebook, connected to a live kernel. It will not work with a staticly rendered display. For an introduction to the IPython interactive widget system and its capabilities, see this talk by Brian Granger\n",
    "http://player.vimeo.com/video/79832657#t=30m\n"
   ]
  },
  {
   "cell_type": "markdown",
   "metadata": {},
   "source": [
    "Let's start by just loading up a PDB file from the RCSB"
   ]
  },
  {
   "cell_type": "code",
   "execution_count": null,
   "metadata": {
    "collapsed": false
   },
   "outputs": [],
   "source": [
    "import mdtraj as md\n",
    "traj = md.load_pdb('2M6K.pdb')\n",
    "print(traj)"
   ]
  },
  {
   "cell_type": "markdown",
   "metadata": {},
   "source": [
    "To enable these features, we first need to run `enable_notebook` to initialize\n",
    "the required javascript."
   ]
  },
  {
   "cell_type": "code",
   "execution_count": null,
   "metadata": {
    "collapsed": false
   },
   "outputs": [],
   "source": [
    "from mdtraj.html import TrajectoryView, enable_notebook\n",
    "enable_notebook()"
   ]
  },
  {
   "cell_type": "markdown",
   "metadata": {},
   "source": [
    "The WebGL viewer engine is called iview, and is introduced in the following [paper](http://www.biomedcentral.com/1471-2105/15/56): Li, Hongjian, et al. \"iview: an interactive WebGL visualizer for protein-ligand complex.\" BMC Bioinformatics 15.1 (2014): 56."
   ]
  },
  {
   "cell_type": "code",
   "execution_count": null,
   "metadata": {
    "collapsed": false
   },
   "outputs": [],
   "source": [
    "# Controls:\n",
    "#  - default mouse to rotate.\n",
    "#  - ctrl to translate\n",
    "#  - shift to zoom (or use wheel)\n",
    "#  - shift+ctrl to change the fog\n",
    "#  - double click to toggle full screen\n",
    "\n",
    "widget = TrajectoryView(traj, secondaryStructure='ribbon')\n",
    "widget"
   ]
  },
  {
   "cell_type": "markdown",
   "metadata": {},
   "source": [
    "We can even animate through the trajectory simply by updating the widget's frame attribute"
   ]
  },
  {
   "cell_type": "code",
   "execution_count": null,
   "metadata": {
    "collapsed": false
   },
   "outputs": [],
   "source": [
    "import time\n",
    "for i in range(traj.n_frames):\n",
    "    widget.frame = i\n",
    "    time.sleep(0.1)"
   ]
  }
 ],
 "metadata": {
  "kernelspec": {
   "display_name": "IPython (Python 3)",
   "name": "python3"
  },
  "language_info": {
   "codemirror_mode": {
    "name": "ipython",
    "version": 3
   },
   "mimetype": "text/x-python",
   "name": "python",
   "pygments_lexer": "ipython3"
  },
  "signature": "sha256:07678809bdf9a2707ecde2a31211bb00d6b5685d84d5c9c55e5d41d4e189e9f4"
 },
 "nbformat": 4,
 "nbformat_minor": 0
}