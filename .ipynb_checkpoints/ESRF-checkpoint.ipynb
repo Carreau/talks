{
 "cells": [
  {
   "cell_type": "markdown",
   "metadata": {
    "slideshow": {
     "slide_type": "slide"
    }
   },
   "source": [
    "Recap \n",
    "\n",
    "So notebooks with vispy on top of webGL looks like a great solution.\n",
    "We need to be able to demonstrate:\n",
    "* authentication (no access to other people's data)\n",
    "* handling of large dataset (we are moving towards HDF5)\n",
    "* viewing slices (1, 2 or 3D) of datasets of high dimensionality (4,5D)\n",
    "* scripting capability (remotely)\n",
    "\n",
    "\n",
    "Jupyter & IPython, A tool for scientific workflow.\n",
    "\n",
    "The Jupyter/IPython Project and it particular one of the frontend known as the notebook is the perfect polyglot tool for scientific computation workflows. The next stable version of the tools will enable for the first time real multi-user usage and in perfect for data analysis on large remote dataset and interactive exploration with a single installation on a lab cluster.\n",
    "\n",
    "I will show some of the current features of the Jupyter/IPython notebook (multilanguage, rich representation, interactive widgets...) as well as demonstrate the current state of the multi-user integration and architecture. Discuss the curent and futur state of authentication, data sharing model, scalability. \n",
    "\n",
    "I'll also discuss the future developement plan and projected feature like real-time colaboration on documents (like google doc/and google drive integgration), evolution of notebook format to integrate better with publishers.\n",
    "\n"
   ]
  },
  {
   "cell_type": "markdown",
   "metadata": {
    "collapsed": true,
    "internals": {
     "slide_type": "subslide"
    },
    "slideshow": {
     "slide_type": "slide"
    }
   },
   "source": [
    "# Jupyter/IPython\n",
    "\n",
    "## A multi-language architecture for interactive computing"
   ]
  },
  {
   "cell_type": "markdown",
   "metadata": {
    "internals": {
     "slide_helper": "subslide_end"
    },
    "slide_helper": "slide_end",
    "slideshow": {
     "slide_type": "-"
    }
   },
   "source": [
    "## ESRF- November 2014\n",
    "\n",
    "###### Bussonnier Matthias"
   ]
  },
  {
   "cell_type": "markdown",
   "metadata": {
    "internals": {
     "slide_type": "subslide"
    },
    "slideshow": {
     "slide_type": "slide"
    }
   },
   "source": [
    "## About Me:"
   ]
  },
  {
   "cell_type": "markdown",
   "metadata": {
    "internals": {
     "slide_helper": "subslide_end"
    },
    "slide_helper": "slide_end",
    "slideshow": {
     "slide_type": "-"
    }
   },
   "source": [
    " - A physicit\n",
    " - (PhD in BioPhysics)\n",
    " - Invoved in IPython/Jupyter for ~3 years now, \n",
    " - PostDoc in UC Berkley at [Berkeley Institute for Data Science](http://bids.berkeley.edu).\n",
    "     - Work on Software to improve Scientific Workflow.\n",
    "     - Add Realtime and GDrive integration to notebook"
   ]
  },
  {
   "cell_type": "markdown",
   "metadata": {
    "internals": {
     "slide_helper": "subslide_end",
     "slide_type": "subslide"
    },
    "slide_helper": "slide_end",
    "slideshow": {
     "slide_type": "slide"
    }
   },
   "source": [
    "### Quick survey\n",
    "\n",
    "  - who uses Jupyter/IPython\n",
    "  - who know vaguely what Jupyter/IPython\n",
    "  - who does not have a clue"
   ]
  },
  {
   "cell_type": "markdown",
   "metadata": {
    "internals": {
     "slide_type": "subslide"
    },
    "slideshow": {
     "slide_type": "slide"
    }
   },
   "source": [
    "## What is Jupyter/IPython"
   ]
  },
  {
   "cell_type": "markdown",
   "metadata": {
    "internals": {},
    "slideshow": {
     "slide_type": "-"
    }
   },
   "source": [
    "IPython is a set of tool to go from individual exploratory work to production-scale execution and publication."
   ]
  },
  {
   "cell_type": "markdown",
   "metadata": {
    "slideshow": {
     "slide_type": "-"
    }
   },
   "source": [
    "<p class='alert alert-warning' style='font-size:120%'>\n",
    "    What I show here is less than 24 hours old, so expect bugs and change in final version of released software. \n",
    "    **Backup** your data if you try.\n",
    "</p>"
   ]
  },
  {
   "cell_type": "markdown",
   "metadata": {},
   "source": [
    "Everything is \n",
    " - on github https://github.com/jupyter and https://github.com/IPython  (for latest dev version)\n",
    " - BSD And Free\n",
    " \n",
    "If you want to try now:\n",
    " - tmpnb.org (you can play with live version)\n",
    " - nbviewer.org (see what people are doing)\n",
    " - https://github.com/ipython/ipython/wiki/A-gallery-of-interesting-IPython-Notebooks\n",
    " "
   ]
  },
  {
   "cell_type": "markdown",
   "metadata": {
    "internals": {
     "slide_helper": "subslide_end"
    },
    "slide_helper": "slide_end",
    "slideshow": {
     "slide_type": "-"
    }
   },
   "source": [
    "## The team\n",
    "\n",
    "- UC Berkeley/Cal Poly (full time) \n",
    "    - Fernando Perez\n",
    "    - Brian Granger\n",
    "    - Min Ragan Kelley\n",
    "    - Thoma Kluyver\n",
    "    - Jonathan Frederic \n",
    "    - & Me \n",
    "   "
   ]
  },
  {
   "cell_type": "markdown",
   "metadata": {
    "internals": {
     "slide_helper": "subslide_end",
     "slide_type": "subslide"
    },
    "slide_helper": "slide_end",
    "slideshow": {
     "slide_type": "slide"
    }
   },
   "source": [
    "# Current IPython funding\n",
    "<img src=\"fig/Logo_Google.png\" width=20%></img>\n",
    "<img src=\"fig/sloan-logo.png\" width=20%></img>\n",
    "<img src=\"fig/rackspace-logo.png\" width=\"20%\"></img>\n",
    "<img src=\"fig/microsoft-logo.png\" width=20%></img>\n",
    "<img src=\"fig/simons-logo.png\" width=20%></img>\n",
    "<img src=\"fig/nsf-logo.png\" width=10%></img>\n",
    "\n"
   ]
  },
  {
   "cell_type": "markdown",
   "metadata": {
    "slideshow": {
     "slide_type": "slide"
    }
   },
   "source": [
    "### A bit of history"
   ]
  },
  {
   "cell_type": "markdown",
   "metadata": {
    "slideshow": {
     "slide_type": "slide"
    }
   },
   "source": [
    "<div class=\"slide-header\">From a better shell...</div>\n",
    "### 2001, Fernando P\u00e9rez, instead of a Physics dissertation\n",
    "<center>\n",
    "<img src=\"files/fig/ipython_console4.png\" width=\"80%\">\n",
    "\n",
    "https://gist.github.com/fperez/1579699\n",
    "</center>"
   ]
  },
  {
   "cell_type": "markdown",
   "metadata": {
    "slideshow": {
     "slide_type": "subslide"
    }
   },
   "source": [
    "<div class=\"slide-header\">... to a fancier shell (and a protocol!)...</div>\n",
    "## 2010, E Patterson, Enthought\n",
    "\n",
    "<center>\n",
    "<img src=\"files/fig/ipython_qtconsole.png\" width=\"40%\">\n",
    "</center>"
   ]
  },
  {
   "cell_type": "markdown",
   "metadata": {
    "slideshow": {
     "slide_type": "slide"
    }
   },
   "source": [
    "<div class=\"slide-header\">As well as 6 notebook attempts in 6 years...</div>\n",
    "## T. Matev, T. Alatalo, R. Kern, Min RK, J. Gao, B. Granger\n",
    "<center>\n",
    "<img src=\"files/fig/ipython-http.png\" width=\"70%\">\n",
    "</center>"
   ]
  },
  {
   "cell_type": "markdown",
   "metadata": {
    "internals": {
     "slide_type": "subslide"
    },
    "slideshow": {
     "slide_type": "slide"
    }
   },
   "source": [
    "# Not Python only"
   ]
  },
  {
   "cell_type": "markdown",
   "metadata": {
    "internals": {
     "slide_helper": "subslide_end"
    },
    "slide_helper": "slide_end",
    "slideshow": {
     "slide_type": "-"
    }
   },
   "source": [
    "> \u201cWhy is it called IPython, if it can do Julia, R, Haskell, Ruby, ... ?\u201d\n",
    "\n",
    "And much more.\n",
    "\n",
    "**IJulia**, **IHaskell**, IFSharp, IRuby, IGo, IScala, IMathics, IAldor, **Calico Project**, Lua Kernel, IRKernel, IErlang, IOCaml, IForth, IPerl, IOctave, IScilab, ICSharp, Bash, Clojure Kernel, Hy Kernel"
   ]
  },
  {
   "cell_type": "markdown",
   "metadata": {
    "internals": {
     "slide_helper": "subslide_end",
     "slide_type": "subslide"
    },
    "slide_helper": "slide_end",
    "slideshow": {
     "slide_type": "slide"
    }
   },
   "source": [
    "### Jupyter\n",
    "\n",
    "Everything which is language agnostic\n",
    "    \n",
    "  - Network protocol for interactive computing\n",
    "  - Clients for protocol\n",
    "    - Console\n",
    "    - Qt Console \u2013 Notebook\n",
    "  - Notebook file format & tools (nbconvert...)\n",
    "  - Nbviewer..."
   ]
  },
  {
   "cell_type": "markdown",
   "metadata": {
    "internals": {
     "slide_helper": "subslide_end",
     "slide_type": "subslide"
    },
    "slide_helper": "slide_end",
    "slideshow": {
     "slide_type": "slide"
    }
   },
   "source": [
    "### IPython\n",
    "\n",
    "- Written in Python\n",
    "- Supercharged Python Shell\n",
    "    - \"Magics\", `?/??`\n",
    "    - **some** cross language integration\n",
    "    - rich display protocol\n",
    "- Some Tools for parallel computing\n",
    "- ment to become only one kernel that can be used with jupyter."
   ]
  },
  {
   "cell_type": "markdown",
   "metadata": {
    "internals": {
     "slide_type": "subslide"
    },
    "slideshow": {
     "slide_type": "slide"
    }
   },
   "source": [
    "## A quick introduction to Jupyter Notebook\n",
    "\n",
    "The Notebook is a web-based interface that allows Interactive code editting and code edditing and execution as webb as inclusion of full paragraph of text and rich math. Example with Python:"
   ]
  },
  {
   "cell_type": "code",
   "execution_count": 5,
   "metadata": {
    "collapsed": false,
    "internals": {},
    "slideshow": {
     "slide_type": "-"
    }
   },
   "outputs": [
    {
     "name": "stdout",
     "output_type": "stream",
     "text": [
      "Hello Grenoble\n"
     ]
    }
   ],
   "source": [
    "location = 'Grenoble'\n",
    "print('Hello', location)"
   ]
  },
  {
   "cell_type": "code",
   "execution_count": 21,
   "metadata": {
    "collapsed": false,
    "internals": {},
    "slideshow": {
     "slide_type": "slide"
    }
   },
   "outputs": [
    {
     "data": {
      "image/png": "[encoded data removed]",
      "text/plain": [
       "<matplotlib.figure.Figure at 0x10e9f17b8>"
      ]
     },
     "metadata": {},
     "output_type": "display_data"
    }
   ],
   "source": [
    "%matplotlib inline\n",
    "import matplotlib.pyplot as plt\n",
    "import numpy as np\n",
    "\n",
    "def pl(\u03c9=1.0):\n",
    "    x = np.arange(0,10,0.05)\n",
    "    plt.plot(x, np.sin(\u03c9*x))\n",
    "    \n",
    "pl()"
   ]
  },
  {
   "cell_type": "code",
   "execution_count": 23,
   "metadata": {
    "collapsed": true,
    "internals": {},
    "slideshow": {
     "slide_type": "slide"
    }
   },
   "outputs": [],
   "source": [
    "from IPython.html.widgets import interact"
   ]
  },
  {
   "cell_type": "code",
   "execution_count": 24,
   "metadata": {
    "collapsed": false,
    "internals": {},
    "slideshow": {
     "slide_type": "-"
    }
   },
   "outputs": [],
   "source": [
    "interact(pl)"
   ]
  },
  {
   "cell_type": "markdown",
   "metadata": {
    "slideshow": {
     "slide_type": "slide"
    }
   },
   "source": [
    "### Other rich representation"
   ]
  },
  {
   "cell_type": "code",
   "execution_count": 21,
   "metadata": {
    "collapsed": true
   },
   "outputs": [],
   "source": [
    "from IPython.display import display\n",
    "\n",
    "from sympy.interactive import printing\n",
    "printing.init_printing(use_latex='mathjax')\n",
    "\n",
    "from __future__ import division\n",
    "import sympy as sym\n",
    "from sympy import *\n",
    "x, y, z = symbols(\"x y z\")\n",
    "f, g, h = map(Function, 'fgh')"
   ]
  },
  {
   "cell_type": "code",
   "execution_count": 22,
   "metadata": {
    "collapsed": false
   },
   "outputs": [
    {
     "data": {
      "text/latex": [
       "$$\\frac{3 \\pi}{2} + \\frac{e^{i h{\\left (x \\right )}}}{f{\\left (y \\right )} + g^{2}{\\left (x \\right )}}$$"
      ],
      "text/plain": [
       "         \u2148\u22c5h(x)   \n",
       "3\u22c5\u03c0     \u212f         \n",
       "\u2500\u2500\u2500 + \u2500\u2500\u2500\u2500\u2500\u2500\u2500\u2500\u2500\u2500\u2500\u2500\n",
       " 2            2   \n",
       "      f(y) + g (x)"
      ]
     },
     "execution_count": 22,
     "metadata": {},
     "output_type": "execute_result"
    }
   ],
   "source": [
    "Rational(3,2)*pi + exp(I*h(x)) / (g(x)**2 + f(y))"
   ]
  },
  {
   "cell_type": "markdown",
   "metadata": {
    "slideshow": {
     "slide_type": "slide"
    }
   },
   "source": [
    "## A taste of interactivity"
   ]
  },
  {
   "cell_type": "code",
   "execution_count": 24,
   "metadata": {
    "collapsed": false
   },
   "outputs": [
    {
     "data": {
      "image/png": "[encoded data removed]",
      "text/plain": [
       "<matplotlib.figure.Figure at 0x10cfe2400>"
      ]
     },
     "metadata": {},
     "output_type": "display_data"
    }
   ],
   "source": [
    "# adapted from a Scott Burns' example.\n",
    "import matplotlib\n",
    "matplotlib.rc('figure', figsize=(8,6))\n",
    "%matplotlib inline\n",
    "\n",
    "from brain_viewer import viewer\n",
    "\n",
    "brain = 'MPRAGE.nii.gz' # this is a T1 image of Scott brain\n",
    "viewer(brain)"
   ]
  },
  {
   "cell_type": "markdown",
   "metadata": {
    "slideshow": {
     "slide_type": "slide"
    }
   },
   "source": [
    "## 3D visualisation\n",
    "\n",
    "3D Visualisation is possible in the notebook using WebGL/[VisPy](./webgl_example_1.ipynb).\n",
    "\n",
    "VisPy Code Camp at ESRF [last Feb](http://cyrille.rossant.net/back-from-our-first-vispy-code-camp-at-esrf/)\n",
    "\n",
    "[Example]([VisPy](./webgl_example_1.ipynb)"
   ]
  },
  {
   "cell_type": "markdown",
   "metadata": {
    "slideshow": {
     "slide_type": "slide"
    }
   },
   "source": [
    "## Multilanguage\n",
    "\n",
    "2 types of multi language which are radically differents\n",
    "\n",
    "- Native Kernel \n",
    "    - Python,\n",
    "    - [Julia](http://localhost:8888/tree/talks/Julia-EuroSciPy14)\n",
    "    - Haskell,\n",
    "    - OCaml\n",
    "    - ,...15+)\n",
    "    \n",
    "- Kernel specific binding\n",
    "    - IPython [magics](Interactive%20Fortran.ipynb)\n",
    "    - Julia PyCall, ccall..."
   ]
  },
  {
   "cell_type": "markdown",
   "metadata": {},
   "source": [
    "# Sharing\n",
    "\n",
    "### nbconvert\n",
    "\n",
    "Nbconvert is a library which allow conversion from .ipynb to html, latex, pdf, rst, py .... (etc).\n",
    "it is availlable 'as a service' on [nbviwer.org](http://nbviewer.org) with tight integration into github.\n",
    "\n",
    "\n",
    "## Interactivity in static view\n",
    "\n",
    "- http://nbviewer.ipython.org/url/jakevdp.github.com/downloads/notebooks/mpld3Demo.ipynb"
   ]
  },
  {
   "cell_type": "markdown",
   "metadata": {
    "slideshow": {
     "slide_type": "slide"
    }
   },
   "source": [
    "# Architecture and Multi Users"
   ]
  },
  {
   "cell_type": "markdown",
   "metadata": {},
   "source": [
    "Architecture of the notebook\n",
    "\n",
    "![img](notebook_components.png)"
   ]
  },
  {
   "cell_type": "markdown",
   "metadata": {},
   "source": [
    "- Each box can be on a different machine\n",
    "- Each Box can be containerized\n",
    "- The notion of what is where can be confusing for end-user.\n",
    "- Recent technology do not work on  all networks :\n",
    "    - 3 \u00d8MQ and 3 websockets sockets/kernel (file desccriptor limit) \n",
    "    - websocket IE \u2265 10"
   ]
  },
  {
   "cell_type": "markdown",
   "metadata": {
    "collapsed": true,
    "slideshow": {
     "slide_type": "slide"
    }
   },
   "source": [
    "## Multi User\n",
    "\n",
    "Work in progress usable/used now\n",
    "  - Even more recent tech (nodejs)\n",
    "  - Slightly in flux\n",
    "  - still limitted doc\n",
    "  - MVP\n",
    "  \n",
    "Frontend capable of spawning Single User servers and redirect to it.\n",
    "  - Unix permission\n",
    "  - Unix Login\n",
    "  - Only spawn SU on local machine.\n",
    "  \n",
    "Each piece can be replaced, \n",
    "  - Comunity prototype of OAuth login\n",
    "  - Comunity prototype of Docker Spawner\n",
    "  \n",
    "Used now:\n",
    "  - tmpnb.org\n",
    "  - [nature demo](http://www.nature.com/news/interactive-notebooks-sharing-the-code-1.16261)\n",
    "  - bryn mawr college [CS teaching](http://jupyter.cs.brynmawr.edu/hub/dblank/public)"
   ]
  },
  {
   "cell_type": "markdown",
   "metadata": {
    "slideshow": {
     "slide_type": "slide"
    }
   },
   "source": [
    "## Future"
   ]
  },
  {
   "cell_type": "markdown",
   "metadata": {},
   "source": [
    "- in browser terminal\n",
    "- in browser editor \n",
    "- real-time colaboration\n",
    "- static widgets\n"
   ]
  },
  {
   "cell_type": "code",
   "execution_count": null,
   "metadata": {
    "collapsed": true
   },
   "outputs": [],
   "source": []
  }
 ],
 "metadata": {
  "celltoolbar": "Slideshow",
  "kernelspec": {
   "display_name": "IPython (Python 3)",
   "name": "python3"
  },
  "language_info": {
   "codemirror_mode": {
    "name": "ipython",
    "version": 3
   },
   "mimetype": "text/x-python",
   "pygments_lexer": "ipython3"
  },
  "signature": "sha256:942d02c6006604237265643e371451d952c556765fb0d84fa13423f34b619cea"
 },
 "nbformat": 4,
 "nbformat_minor": 0
}