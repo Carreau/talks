{
 "cells": [],
 "metadata": {
  "signature": "sha256:3e1c0b68dcdceb4a6aa16414f3c22317be26f5c9ec67bcd75121af2294cceb75"
 },
 "nbformat": 4,
 "nbformat_minor": 0
}